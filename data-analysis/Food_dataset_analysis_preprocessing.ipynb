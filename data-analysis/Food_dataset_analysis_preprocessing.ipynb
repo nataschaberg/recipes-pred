{
 "cells": [
  {
   "cell_type": "code",
   "execution_count": 1,
   "id": "13564ae7",
   "metadata": {},
   "outputs": [],
   "source": [
    "import pandas as pd\n",
    "import numpy as np\n",
    "import matplotlib.pyplot as plt\n",
    "import seaborn as sns\n",
    "import ast\n",
    "\n",
    "import warnings\n",
    "warnings.filterwarnings('ignore')"
   ]
  },
  {
   "cell_type": "markdown",
   "id": "e3fa8cb0",
   "metadata": {},
   "source": [
    "# Clean & prepare dataset"
   ]
  },
  {
   "cell_type": "markdown",
   "id": "344ef016",
   "metadata": {},
   "source": [
    "#### Load dataset from kaggle ()"
   ]
  },
  {
   "cell_type": "code",
   "execution_count": 3,
   "id": "6fd977b8",
   "metadata": {},
   "outputs": [],
   "source": [
    "food = pd.read_csv('dataset/RAW_recipes.csv')"
   ]
  },
  {
   "cell_type": "code",
   "execution_count": 4,
   "id": "abe1ed6d",
   "metadata": {
    "scrolled": true
   },
   "outputs": [
    {
     "data": {
      "text/html": [
       "<div>\n",
       "<style scoped>\n",
       "    .dataframe tbody tr th:only-of-type {\n",
       "        vertical-align: middle;\n",
       "    }\n",
       "\n",
       "    .dataframe tbody tr th {\n",
       "        vertical-align: top;\n",
       "    }\n",
       "\n",
       "    .dataframe thead th {\n",
       "        text-align: right;\n",
       "    }\n",
       "</style>\n",
       "<table border=\"1\" class=\"dataframe\">\n",
       "  <thead>\n",
       "    <tr style=\"text-align: right;\">\n",
       "      <th></th>\n",
       "      <th>name</th>\n",
       "      <th>id</th>\n",
       "      <th>minutes</th>\n",
       "      <th>contributor_id</th>\n",
       "      <th>submitted</th>\n",
       "      <th>tags</th>\n",
       "      <th>nutrition</th>\n",
       "      <th>n_steps</th>\n",
       "      <th>steps</th>\n",
       "      <th>description</th>\n",
       "      <th>ingredients</th>\n",
       "      <th>n_ingredients</th>\n",
       "    </tr>\n",
       "  </thead>\n",
       "  <tbody>\n",
       "    <tr>\n",
       "      <th>0</th>\n",
       "      <td>arriba   baked winter squash mexican style</td>\n",
       "      <td>137739</td>\n",
       "      <td>55</td>\n",
       "      <td>47892</td>\n",
       "      <td>2005-09-16</td>\n",
       "      <td>['60-minutes-or-less', 'time-to-make', 'course...</td>\n",
       "      <td>[51.5, 0.0, 13.0, 0.0, 2.0, 0.0, 4.0]</td>\n",
       "      <td>11</td>\n",
       "      <td>['make a choice and proceed with recipe', 'dep...</td>\n",
       "      <td>autumn is my favorite time of year to cook! th...</td>\n",
       "      <td>['winter squash', 'mexican seasoning', 'mixed ...</td>\n",
       "      <td>7</td>\n",
       "    </tr>\n",
       "    <tr>\n",
       "      <th>1</th>\n",
       "      <td>a bit different  breakfast pizza</td>\n",
       "      <td>31490</td>\n",
       "      <td>30</td>\n",
       "      <td>26278</td>\n",
       "      <td>2002-06-17</td>\n",
       "      <td>['30-minutes-or-less', 'time-to-make', 'course...</td>\n",
       "      <td>[173.4, 18.0, 0.0, 17.0, 22.0, 35.0, 1.0]</td>\n",
       "      <td>9</td>\n",
       "      <td>['preheat oven to 425 degrees f', 'press dough...</td>\n",
       "      <td>this recipe calls for the crust to be prebaked...</td>\n",
       "      <td>['prepared pizza crust', 'sausage patty', 'egg...</td>\n",
       "      <td>6</td>\n",
       "    </tr>\n",
       "  </tbody>\n",
       "</table>\n",
       "</div>"
      ],
      "text/plain": [
       "                                         name      id  minutes  \\\n",
       "0  arriba   baked winter squash mexican style  137739       55   \n",
       "1            a bit different  breakfast pizza   31490       30   \n",
       "\n",
       "   contributor_id   submitted  \\\n",
       "0           47892  2005-09-16   \n",
       "1           26278  2002-06-17   \n",
       "\n",
       "                                                tags  \\\n",
       "0  ['60-minutes-or-less', 'time-to-make', 'course...   \n",
       "1  ['30-minutes-or-less', 'time-to-make', 'course...   \n",
       "\n",
       "                                   nutrition  n_steps  \\\n",
       "0      [51.5, 0.0, 13.0, 0.0, 2.0, 0.0, 4.0]       11   \n",
       "1  [173.4, 18.0, 0.0, 17.0, 22.0, 35.0, 1.0]        9   \n",
       "\n",
       "                                               steps  \\\n",
       "0  ['make a choice and proceed with recipe', 'dep...   \n",
       "1  ['preheat oven to 425 degrees f', 'press dough...   \n",
       "\n",
       "                                         description  \\\n",
       "0  autumn is my favorite time of year to cook! th...   \n",
       "1  this recipe calls for the crust to be prebaked...   \n",
       "\n",
       "                                         ingredients  n_ingredients  \n",
       "0  ['winter squash', 'mexican seasoning', 'mixed ...              7  \n",
       "1  ['prepared pizza crust', 'sausage patty', 'egg...              6  "
      ]
     },
     "execution_count": 4,
     "metadata": {},
     "output_type": "execute_result"
    }
   ],
   "source": [
    "food.head(2)"
   ]
  },
  {
   "cell_type": "markdown",
   "id": "aaae77a9",
   "metadata": {},
   "source": [
    "#### Check data types and null values"
   ]
  },
  {
   "cell_type": "code",
   "execution_count": 5,
   "id": "09fa2d75",
   "metadata": {},
   "outputs": [
    {
     "name": "stdout",
     "output_type": "stream",
     "text": [
      "<class 'pandas.core.frame.DataFrame'>\n",
      "RangeIndex: 231637 entries, 0 to 231636\n",
      "Data columns (total 12 columns):\n",
      " #   Column          Non-Null Count   Dtype \n",
      "---  ------          --------------   ----- \n",
      " 0   name            231636 non-null  object\n",
      " 1   id              231637 non-null  int64 \n",
      " 2   minutes         231637 non-null  int64 \n",
      " 3   contributor_id  231637 non-null  int64 \n",
      " 4   submitted       231637 non-null  object\n",
      " 5   tags            231637 non-null  object\n",
      " 6   nutrition       231637 non-null  object\n",
      " 7   n_steps         231637 non-null  int64 \n",
      " 8   steps           231637 non-null  object\n",
      " 9   description     226658 non-null  object\n",
      " 10  ingredients     231637 non-null  object\n",
      " 11  n_ingredients   231637 non-null  int64 \n",
      "dtypes: int64(5), object(7)\n",
      "memory usage: 21.2+ MB\n"
     ]
    }
   ],
   "source": [
    "food.info()"
   ]
  },
  {
   "cell_type": "code",
   "execution_count": 6,
   "id": "560fec40",
   "metadata": {},
   "outputs": [
    {
     "data": {
      "text/plain": [
       "name                 1\n",
       "id                   0\n",
       "minutes              0\n",
       "contributor_id       0\n",
       "submitted            0\n",
       "tags                 0\n",
       "nutrition            0\n",
       "n_steps              0\n",
       "steps                0\n",
       "description       4979\n",
       "ingredients          0\n",
       "n_ingredients        0\n",
       "dtype: int64"
      ]
     },
     "execution_count": 6,
     "metadata": {},
     "output_type": "execute_result"
    }
   ],
   "source": [
    "# check for null values\n",
    "food.isna().sum()"
   ]
  },
  {
   "cell_type": "code",
   "execution_count": 7,
   "id": "ecb5e1ca",
   "metadata": {},
   "outputs": [
    {
     "data": {
      "text/plain": [
       "(231636, 12)"
      ]
     },
     "execution_count": 7,
     "metadata": {},
     "output_type": "execute_result"
    }
   ],
   "source": [
    "# drop one row where name is empty\n",
    "ind_missing_name = food.index[food['name'].isna()]\n",
    "food.drop(ind_missing_name, inplace=True)\n",
    "food.shape"
   ]
  },
  {
   "cell_type": "code",
   "execution_count": 8,
   "id": "84a3881d",
   "metadata": {
    "scrolled": false
   },
   "outputs": [
    {
     "data": {
      "text/plain": [
       "(\"['winter squash', 'mexican seasoning', 'mixed spice', 'honey', 'butter', 'olive oil', 'salt']\",\n",
       " str,\n",
       " \"['make a choice and proceed with recipe', 'depending on size of squash , cut into half or fourths', 'remove seeds', 'for spicy squash , drizzle olive oil or melted butter over each cut squash piece', 'season with mexican seasoning mix ii', 'for sweet squash , drizzle melted honey , butter , grated piloncillo over each cut squash piece', 'season with sweet mexican spice mix', 'bake at 350 degrees , again depending on size , for 40 minutes up to an hour , until a fork can easily pierce the skin', 'be careful not to burn the squash especially if you opt to use sugar or butter', 'if you feel more comfortable , cover the squash with aluminum foil the first half hour , give or take , of baking', 'if desired , season with salt']\",\n",
       " str,\n",
       " 'autumn is my favorite time of year to cook! this recipe \\r\\ncan be prepared either spicy or sweet, your choice!\\r\\ntwo of my posted mexican-inspired seasoning mix recipes are offered as suggestions.',\n",
       " str)"
      ]
     },
     "execution_count": 8,
     "metadata": {},
     "output_type": "execute_result"
    }
   ],
   "source": [
    "# check the format of ingredients, steps and description \n",
    "food['ingredients'].iloc[0], type(food['ingredients'].iloc[0]), \\\n",
    "food['steps'].iloc[0], type(food['steps'].iloc[0]), \\\n",
    "food['description'].iloc[0], type(food['description'].iloc[0]), "
   ]
  },
  {
   "cell_type": "markdown",
   "id": "42853e0b",
   "metadata": {},
   "source": [
    "- the ingredients and steps entries should be converted to a list of strings to have better handling downstream"
   ]
  },
  {
   "cell_type": "markdown",
   "id": "3ef5a754",
   "metadata": {},
   "source": [
    "## Create cleaned dataframe for further anaylsis"
   ]
  },
  {
   "cell_type": "markdown",
   "id": "5944def5",
   "metadata": {},
   "source": [
    "1. Convert ingredient strings and steps strings to list with entries\n",
    "2. Add source of data\n",
    "3. Drop id, submitted and description features"
   ]
  },
  {
   "cell_type": "code",
   "execution_count": 9,
   "id": "43ea561a",
   "metadata": {},
   "outputs": [],
   "source": [
    "def convert_to_list(string):\n",
    "    return ast.literal_eval(string)\n",
    "\n",
    "\n",
    "def prepare_dataset(base_df, data_source, add_combined=False):\n",
    "    df = pd.DataFrame([], columns=['source', 'title', 'contributor_id', 'tags', 'nutrition',\n",
    "                                   'ingredients', 'num_ingredients', 'instructions', \n",
    "                                   'num_instruction_steps', 'prep_time_minutes'])\n",
    "    \n",
    "    df['title'] = base_df['name']\n",
    "    df['ingredients'] = [convert_to_list(i) for i in base_df['ingredients']]\n",
    "    df['instructions'] = [convert_to_list(s) for s in base_df['steps']]\n",
    "    df['num_ingredients'] = base_df['n_ingredients']\n",
    "    df['num_instruction_steps'] = base_df['n_steps']\n",
    "    df['prep_time_minutes'] = base_df['minutes']\n",
    "    df['contributor_id'] = base_df['contributor_id'].astype(str)\n",
    "    df['tags'] = base_df['tags']\n",
    "    df['nutrition'] = base_df['nutrition']\n",
    "    df['source'] = data_source\n",
    "\n",
    "    \n",
    "    return df"
   ]
  },
  {
   "cell_type": "code",
   "execution_count": 10,
   "id": "540a9866",
   "metadata": {},
   "outputs": [],
   "source": [
    "df = prepare_dataset(food, 'food.com')"
   ]
  },
  {
   "cell_type": "code",
   "execution_count": 11,
   "id": "7bc7a65b",
   "metadata": {},
   "outputs": [
    {
     "data": {
      "text/html": [
       "<div>\n",
       "<style scoped>\n",
       "    .dataframe tbody tr th:only-of-type {\n",
       "        vertical-align: middle;\n",
       "    }\n",
       "\n",
       "    .dataframe tbody tr th {\n",
       "        vertical-align: top;\n",
       "    }\n",
       "\n",
       "    .dataframe thead th {\n",
       "        text-align: right;\n",
       "    }\n",
       "</style>\n",
       "<table border=\"1\" class=\"dataframe\">\n",
       "  <thead>\n",
       "    <tr style=\"text-align: right;\">\n",
       "      <th></th>\n",
       "      <th>source</th>\n",
       "      <th>title</th>\n",
       "      <th>contributor_id</th>\n",
       "      <th>tags</th>\n",
       "      <th>nutrition</th>\n",
       "      <th>ingredients</th>\n",
       "      <th>num_ingredients</th>\n",
       "      <th>instructions</th>\n",
       "      <th>num_instruction_steps</th>\n",
       "      <th>prep_time_minutes</th>\n",
       "    </tr>\n",
       "  </thead>\n",
       "  <tbody>\n",
       "    <tr>\n",
       "      <th>0</th>\n",
       "      <td>food.com</td>\n",
       "      <td>arriba   baked winter squash mexican style</td>\n",
       "      <td>47892</td>\n",
       "      <td>['60-minutes-or-less', 'time-to-make', 'course...</td>\n",
       "      <td>[51.5, 0.0, 13.0, 0.0, 2.0, 0.0, 4.0]</td>\n",
       "      <td>[winter squash, mexican seasoning, mixed spice...</td>\n",
       "      <td>7</td>\n",
       "      <td>[make a choice and proceed with recipe, depend...</td>\n",
       "      <td>11</td>\n",
       "      <td>55</td>\n",
       "    </tr>\n",
       "    <tr>\n",
       "      <th>1</th>\n",
       "      <td>food.com</td>\n",
       "      <td>a bit different  breakfast pizza</td>\n",
       "      <td>26278</td>\n",
       "      <td>['30-minutes-or-less', 'time-to-make', 'course...</td>\n",
       "      <td>[173.4, 18.0, 0.0, 17.0, 22.0, 35.0, 1.0]</td>\n",
       "      <td>[prepared pizza crust, sausage patty, eggs, mi...</td>\n",
       "      <td>6</td>\n",
       "      <td>[preheat oven to 425 degrees f, press dough in...</td>\n",
       "      <td>9</td>\n",
       "      <td>30</td>\n",
       "    </tr>\n",
       "    <tr>\n",
       "      <th>2</th>\n",
       "      <td>food.com</td>\n",
       "      <td>all in the kitchen  chili</td>\n",
       "      <td>196586</td>\n",
       "      <td>['time-to-make', 'course', 'preparation', 'mai...</td>\n",
       "      <td>[269.8, 22.0, 32.0, 48.0, 39.0, 27.0, 5.0]</td>\n",
       "      <td>[ground beef, yellow onions, diced tomatoes, t...</td>\n",
       "      <td>13</td>\n",
       "      <td>[brown ground beef in large pot, add chopped o...</td>\n",
       "      <td>6</td>\n",
       "      <td>130</td>\n",
       "    </tr>\n",
       "  </tbody>\n",
       "</table>\n",
       "</div>"
      ],
      "text/plain": [
       "     source                                       title contributor_id  \\\n",
       "0  food.com  arriba   baked winter squash mexican style          47892   \n",
       "1  food.com            a bit different  breakfast pizza          26278   \n",
       "2  food.com                   all in the kitchen  chili         196586   \n",
       "\n",
       "                                                tags  \\\n",
       "0  ['60-minutes-or-less', 'time-to-make', 'course...   \n",
       "1  ['30-minutes-or-less', 'time-to-make', 'course...   \n",
       "2  ['time-to-make', 'course', 'preparation', 'mai...   \n",
       "\n",
       "                                    nutrition  \\\n",
       "0       [51.5, 0.0, 13.0, 0.0, 2.0, 0.0, 4.0]   \n",
       "1   [173.4, 18.0, 0.0, 17.0, 22.0, 35.0, 1.0]   \n",
       "2  [269.8, 22.0, 32.0, 48.0, 39.0, 27.0, 5.0]   \n",
       "\n",
       "                                         ingredients  num_ingredients  \\\n",
       "0  [winter squash, mexican seasoning, mixed spice...                7   \n",
       "1  [prepared pizza crust, sausage patty, eggs, mi...                6   \n",
       "2  [ground beef, yellow onions, diced tomatoes, t...               13   \n",
       "\n",
       "                                        instructions  num_instruction_steps  \\\n",
       "0  [make a choice and proceed with recipe, depend...                     11   \n",
       "1  [preheat oven to 425 degrees f, press dough in...                      9   \n",
       "2  [brown ground beef in large pot, add chopped o...                      6   \n",
       "\n",
       "   prep_time_minutes  \n",
       "0                 55  \n",
       "1                 30  \n",
       "2                130  "
      ]
     },
     "execution_count": 11,
     "metadata": {},
     "output_type": "execute_result"
    }
   ],
   "source": [
    "df.head(3)"
   ]
  },
  {
   "cell_type": "markdown",
   "id": "d68d37ce",
   "metadata": {},
   "source": [
    "# EDA"
   ]
  },
  {
   "cell_type": "markdown",
   "id": "64eb95bb",
   "metadata": {},
   "source": [
    "## Numerical Features"
   ]
  },
  {
   "cell_type": "code",
   "execution_count": 12,
   "id": "eb8c6385",
   "metadata": {},
   "outputs": [
    {
     "data": {
      "text/html": [
       "<div>\n",
       "<style scoped>\n",
       "    .dataframe tbody tr th:only-of-type {\n",
       "        vertical-align: middle;\n",
       "    }\n",
       "\n",
       "    .dataframe tbody tr th {\n",
       "        vertical-align: top;\n",
       "    }\n",
       "\n",
       "    .dataframe thead th {\n",
       "        text-align: right;\n",
       "    }\n",
       "</style>\n",
       "<table border=\"1\" class=\"dataframe\">\n",
       "  <thead>\n",
       "    <tr style=\"text-align: right;\">\n",
       "      <th></th>\n",
       "      <th>num_ingredients</th>\n",
       "      <th>num_instruction_steps</th>\n",
       "      <th>prep_time_minutes</th>\n",
       "    </tr>\n",
       "  </thead>\n",
       "  <tbody>\n",
       "    <tr>\n",
       "      <th>count</th>\n",
       "      <td>231636.000000</td>\n",
       "      <td>231636.000000</td>\n",
       "      <td>2.316360e+05</td>\n",
       "    </tr>\n",
       "    <tr>\n",
       "      <th>mean</th>\n",
       "      <td>9.051149</td>\n",
       "      <td>9.765516</td>\n",
       "      <td>9.398587e+03</td>\n",
       "    </tr>\n",
       "    <tr>\n",
       "      <th>std</th>\n",
       "      <td>3.734803</td>\n",
       "      <td>5.995136</td>\n",
       "      <td>4.461973e+06</td>\n",
       "    </tr>\n",
       "    <tr>\n",
       "      <th>min</th>\n",
       "      <td>1.000000</td>\n",
       "      <td>0.000000</td>\n",
       "      <td>0.000000e+00</td>\n",
       "    </tr>\n",
       "    <tr>\n",
       "      <th>25%</th>\n",
       "      <td>6.000000</td>\n",
       "      <td>6.000000</td>\n",
       "      <td>2.000000e+01</td>\n",
       "    </tr>\n",
       "    <tr>\n",
       "      <th>50%</th>\n",
       "      <td>9.000000</td>\n",
       "      <td>9.000000</td>\n",
       "      <td>4.000000e+01</td>\n",
       "    </tr>\n",
       "    <tr>\n",
       "      <th>75%</th>\n",
       "      <td>11.000000</td>\n",
       "      <td>12.000000</td>\n",
       "      <td>6.500000e+01</td>\n",
       "    </tr>\n",
       "    <tr>\n",
       "      <th>max</th>\n",
       "      <td>43.000000</td>\n",
       "      <td>145.000000</td>\n",
       "      <td>2.147484e+09</td>\n",
       "    </tr>\n",
       "  </tbody>\n",
       "</table>\n",
       "</div>"
      ],
      "text/plain": [
       "       num_ingredients  num_instruction_steps  prep_time_minutes\n",
       "count    231636.000000          231636.000000       2.316360e+05\n",
       "mean          9.051149               9.765516       9.398587e+03\n",
       "std           3.734803               5.995136       4.461973e+06\n",
       "min           1.000000               0.000000       0.000000e+00\n",
       "25%           6.000000               6.000000       2.000000e+01\n",
       "50%           9.000000               9.000000       4.000000e+01\n",
       "75%          11.000000              12.000000       6.500000e+01\n",
       "max          43.000000             145.000000       2.147484e+09"
      ]
     },
     "execution_count": 12,
     "metadata": {},
     "output_type": "execute_result"
    }
   ],
   "source": [
    "df.describe()"
   ]
  },
  {
   "cell_type": "markdown",
   "id": "541e7276",
   "metadata": {},
   "source": [
    "Observations:\n",
    "- from the five point summary on we see that there are outliers in dataset in regards to all three features: number of ingredients, number of instruction steps and also preparation time in minutes\n",
    "- this is apparent from the max vs 75% summary"
   ]
  },
  {
   "cell_type": "markdown",
   "id": "5cbf8b86",
   "metadata": {},
   "source": [
    "### Checking for outliers and data shape"
   ]
  },
  {
   "cell_type": "code",
   "execution_count": 13,
   "id": "d7b5be8d",
   "metadata": {},
   "outputs": [
    {
     "data": {
      "text/html": [
       "<div>\n",
       "<style scoped>\n",
       "    .dataframe tbody tr th:only-of-type {\n",
       "        vertical-align: middle;\n",
       "    }\n",
       "\n",
       "    .dataframe tbody tr th {\n",
       "        vertical-align: top;\n",
       "    }\n",
       "\n",
       "    .dataframe thead th {\n",
       "        text-align: right;\n",
       "    }\n",
       "</style>\n",
       "<table border=\"1\" class=\"dataframe\">\n",
       "  <thead>\n",
       "    <tr style=\"text-align: right;\">\n",
       "      <th></th>\n",
       "      <th>source</th>\n",
       "      <th>title</th>\n",
       "      <th>contributor_id</th>\n",
       "      <th>tags</th>\n",
       "      <th>nutrition</th>\n",
       "      <th>ingredients</th>\n",
       "      <th>num_ingredients</th>\n",
       "      <th>instructions</th>\n",
       "      <th>num_instruction_steps</th>\n",
       "      <th>prep_time_minutes</th>\n",
       "    </tr>\n",
       "  </thead>\n",
       "  <tbody>\n",
       "    <tr>\n",
       "      <th>144074</th>\n",
       "      <td>food.com</td>\n",
       "      <td>no bake granola balls</td>\n",
       "      <td>464080</td>\n",
       "      <td>['60-minutes-or-less', 'time-to-make', 'course...</td>\n",
       "      <td>[330.3, 23.0, 110.0, 4.0, 15.0, 24.0, 15.0]</td>\n",
       "      <td>[rolled oats, unsweetened dried shredded cocon...</td>\n",
       "      <td>8</td>\n",
       "      <td>[preheat the oven to 350 degrees, spread oats ...</td>\n",
       "      <td>9</td>\n",
       "      <td>2147483647</td>\n",
       "    </tr>\n",
       "    <tr>\n",
       "      <th>109624</th>\n",
       "      <td>food.com</td>\n",
       "      <td>how to preserve a husband</td>\n",
       "      <td>576273</td>\n",
       "      <td>['time-to-make', 'course', 'preparation', 'for...</td>\n",
       "      <td>[407.4, 57.0, 50.0, 1.0, 7.0, 115.0, 5.0]</td>\n",
       "      <td>[cream, peach]</td>\n",
       "      <td>2</td>\n",
       "      <td>[be careful in your selection, don't choose to...</td>\n",
       "      <td>9</td>\n",
       "      <td>1051200</td>\n",
       "    </tr>\n",
       "    <tr>\n",
       "      <th>106563</th>\n",
       "      <td>food.com</td>\n",
       "      <td>homemade fruit liquers</td>\n",
       "      <td>553251</td>\n",
       "      <td>['time-to-make', 'course', 'main-ingredient', ...</td>\n",
       "      <td>[836.2, 0.0, 333.0, 0.0, 0.0, 0.0, 27.0]</td>\n",
       "      <td>[berries, vodka, granulated sugar]</td>\n",
       "      <td>3</td>\n",
       "      <td>[rinse the fruit or berries , fruit must be cu...</td>\n",
       "      <td>12</td>\n",
       "      <td>288000</td>\n",
       "    </tr>\n",
       "    <tr>\n",
       "      <th>38116</th>\n",
       "      <td>food.com</td>\n",
       "      <td>celtic druid s honey mead   meade   metheglin</td>\n",
       "      <td>242729</td>\n",
       "      <td>['time-to-make', 'course', 'main-ingredient', ...</td>\n",
       "      <td>[531.0, 0.0, 561.0, 1.0, 1.0, 0.0, 47.0]</td>\n",
       "      <td>[gingerroot, lemons, juice and rind of, whole ...</td>\n",
       "      <td>7</td>\n",
       "      <td>[equipement:, very large pan - to hold 12 pint...</td>\n",
       "      <td>18</td>\n",
       "      <td>259260</td>\n",
       "    </tr>\n",
       "    <tr>\n",
       "      <th>106963</th>\n",
       "      <td>food.com</td>\n",
       "      <td>homemade vanilla</td>\n",
       "      <td>28177</td>\n",
       "      <td>['time-to-make', 'preparation', '5-ingredients...</td>\n",
       "      <td>[69.4, 0.0, 0.0, 0.0, 0.0, 0.0, 0.0]</td>\n",
       "      <td>[vanilla beans, vodka]</td>\n",
       "      <td>2</td>\n",
       "      <td>[slice the vanilla beans length-wise and scrap...</td>\n",
       "      <td>9</td>\n",
       "      <td>259205</td>\n",
       "    </tr>\n",
       "  </tbody>\n",
       "</table>\n",
       "</div>"
      ],
      "text/plain": [
       "          source                                          title  \\\n",
       "144074  food.com                          no bake granola balls   \n",
       "109624  food.com                      how to preserve a husband   \n",
       "106563  food.com                         homemade fruit liquers   \n",
       "38116   food.com  celtic druid s honey mead   meade   metheglin   \n",
       "106963  food.com                               homemade vanilla   \n",
       "\n",
       "       contributor_id                                               tags  \\\n",
       "144074         464080  ['60-minutes-or-less', 'time-to-make', 'course...   \n",
       "109624         576273  ['time-to-make', 'course', 'preparation', 'for...   \n",
       "106563         553251  ['time-to-make', 'course', 'main-ingredient', ...   \n",
       "38116          242729  ['time-to-make', 'course', 'main-ingredient', ...   \n",
       "106963          28177  ['time-to-make', 'preparation', '5-ingredients...   \n",
       "\n",
       "                                          nutrition  \\\n",
       "144074  [330.3, 23.0, 110.0, 4.0, 15.0, 24.0, 15.0]   \n",
       "109624    [407.4, 57.0, 50.0, 1.0, 7.0, 115.0, 5.0]   \n",
       "106563     [836.2, 0.0, 333.0, 0.0, 0.0, 0.0, 27.0]   \n",
       "38116      [531.0, 0.0, 561.0, 1.0, 1.0, 0.0, 47.0]   \n",
       "106963         [69.4, 0.0, 0.0, 0.0, 0.0, 0.0, 0.0]   \n",
       "\n",
       "                                              ingredients  num_ingredients  \\\n",
       "144074  [rolled oats, unsweetened dried shredded cocon...                8   \n",
       "109624                                     [cream, peach]                2   \n",
       "106563                 [berries, vodka, granulated sugar]                3   \n",
       "38116   [gingerroot, lemons, juice and rind of, whole ...                7   \n",
       "106963                             [vanilla beans, vodka]                2   \n",
       "\n",
       "                                             instructions  \\\n",
       "144074  [preheat the oven to 350 degrees, spread oats ...   \n",
       "109624  [be careful in your selection, don't choose to...   \n",
       "106563  [rinse the fruit or berries , fruit must be cu...   \n",
       "38116   [equipement:, very large pan - to hold 12 pint...   \n",
       "106963  [slice the vanilla beans length-wise and scrap...   \n",
       "\n",
       "        num_instruction_steps  prep_time_minutes  \n",
       "144074                      9         2147483647  \n",
       "109624                      9            1051200  \n",
       "106563                     12             288000  \n",
       "38116                      18             259260  \n",
       "106963                      9             259205  "
      ]
     },
     "execution_count": 13,
     "metadata": {},
     "output_type": "execute_result"
    }
   ],
   "source": [
    "# check extreme outliers in prep_time_minutes\n",
    "df.sort_values(by='prep_time_minutes', ascending=False).head(5)"
   ]
  },
  {
   "cell_type": "markdown",
   "id": "1a926f0b",
   "metadata": {},
   "source": [
    "- the first two rows are very different compared to the other values\n",
    "- also the second one looks like spam"
   ]
  },
  {
   "cell_type": "code",
   "execution_count": 14,
   "id": "7bd4f964",
   "metadata": {},
   "outputs": [
    {
     "name": "stdout",
     "output_type": "stream",
     "text": [
      "(231636, 10)\n",
      "(231634, 10)\n"
     ]
    }
   ],
   "source": [
    "# drop these two rows from df\n",
    "print(df.shape)\n",
    "df.drop(index=[144074, 109624], inplace=True)\n",
    "print(df.shape)"
   ]
  },
  {
   "cell_type": "markdown",
   "id": "d2211e61",
   "metadata": {},
   "source": [
    "### Plot numerical features"
   ]
  },
  {
   "cell_type": "markdown",
   "id": "e875474d",
   "metadata": {},
   "source": [
    "### Univariate "
   ]
  },
  {
   "cell_type": "code",
   "execution_count": 15,
   "id": "ef963266",
   "metadata": {},
   "outputs": [
    {
     "data": {
      "image/png": "[encoded data removed]",
      "text/plain": [
       "<Figure size 1500x500 with 3 Axes>"
      ]
     },
     "metadata": {},
     "output_type": "display_data"
    }
   ],
   "source": [
    "# check for number of ingredients, number of instruction steps, and number of prep time \n",
    "fig, ax = plt.subplots(1, 3, figsize=(15, 5))\n",
    "    \n",
    "for i, col in enumerate(df.select_dtypes('number')):\n",
    "    sns.histplot(data=df, x=col, bins=40, ax=ax[i])\n",
    "\n",
    "plt.show()"
   ]
  },
  {
   "cell_type": "code",
   "execution_count": 16,
   "id": "a9061ae0",
   "metadata": {},
   "outputs": [
    {
     "data": {
      "image/png": "[encoded data removed]",
      "text/plain": [
       "<Figure size 1500x500 with 3 Axes>"
      ]
     },
     "metadata": {},
     "output_type": "display_data"
    }
   ],
   "source": [
    "# visual check for outliers\n",
    "fig, ax = plt.subplots(1, 3, figsize=(15, 5))\n",
    "    \n",
    "for i, col in enumerate(df.select_dtypes('number')):\n",
    "    sns.boxplot(data=df, y=col, ax=ax[i], palette='YlGnBu')\n",
    "\n",
    "plt.show()"
   ]
  },
  {
   "cell_type": "markdown",
   "id": "8c32f994",
   "metadata": {},
   "source": [
    "### Bivariate"
   ]
  },
  {
   "cell_type": "code",
   "execution_count": 17,
   "id": "2be1b642",
   "metadata": {},
   "outputs": [
    {
     "data": {
      "text/html": [
       "<div>\n",
       "<style scoped>\n",
       "    .dataframe tbody tr th:only-of-type {\n",
       "        vertical-align: middle;\n",
       "    }\n",
       "\n",
       "    .dataframe tbody tr th {\n",
       "        vertical-align: top;\n",
       "    }\n",
       "\n",
       "    .dataframe thead th {\n",
       "        text-align: right;\n",
       "    }\n",
       "</style>\n",
       "<table border=\"1\" class=\"dataframe\">\n",
       "  <thead>\n",
       "    <tr style=\"text-align: right;\">\n",
       "      <th></th>\n",
       "      <th>num_ingredients</th>\n",
       "      <th>num_instruction_steps</th>\n",
       "      <th>prep_time_minutes</th>\n",
       "    </tr>\n",
       "  </thead>\n",
       "  <tbody>\n",
       "    <tr>\n",
       "      <th>num_ingredients</th>\n",
       "      <td>1.000000</td>\n",
       "      <td>0.427708</td>\n",
       "      <td>-0.012103</td>\n",
       "    </tr>\n",
       "    <tr>\n",
       "      <th>num_instruction_steps</th>\n",
       "      <td>0.427708</td>\n",
       "      <td>1.000000</td>\n",
       "      <td>0.018180</td>\n",
       "    </tr>\n",
       "    <tr>\n",
       "      <th>prep_time_minutes</th>\n",
       "      <td>-0.012103</td>\n",
       "      <td>0.018180</td>\n",
       "      <td>1.000000</td>\n",
       "    </tr>\n",
       "  </tbody>\n",
       "</table>\n",
       "</div>"
      ],
      "text/plain": [
       "                       num_ingredients  num_instruction_steps  \\\n",
       "num_ingredients               1.000000               0.427708   \n",
       "num_instruction_steps         0.427708               1.000000   \n",
       "prep_time_minutes            -0.012103               0.018180   \n",
       "\n",
       "                       prep_time_minutes  \n",
       "num_ingredients                -0.012103  \n",
       "num_instruction_steps           0.018180  \n",
       "prep_time_minutes               1.000000  "
      ]
     },
     "execution_count": 17,
     "metadata": {},
     "output_type": "execute_result"
    }
   ],
   "source": [
    "df.corr()"
   ]
  },
  {
   "cell_type": "markdown",
   "id": "b7cd79ec",
   "metadata": {},
   "source": [
    "Obsertations:\n",
    "- correlation between prep time and number of igredients is very close to zero:\n",
    "    - this implies that there is either no menaingfull correlation or the relationship is complex (non linear)\n",
    "- we see positive correlation above 0.4 between prep time and number of ingredients"
   ]
  },
  {
   "cell_type": "markdown",
   "id": "ec1185ea",
   "metadata": {},
   "source": [
    "- num ingredients and num of instruction steps are nomrally distributed and skewed to the right\n",
    "- prep time has large outliers"
   ]
  },
  {
   "cell_type": "markdown",
   "id": "10de1a3c",
   "metadata": {},
   "source": [
    "### Create categories for prep times to evaluate the features more conveniently"
   ]
  },
  {
   "cell_type": "code",
   "execution_count": 18,
   "id": "1c69c274",
   "metadata": {},
   "outputs": [],
   "source": [
    "# create fn to sort prep times into categories of short, medium, long, extra long\n",
    "def create_prep_time_categories():\n",
    "    df['prep_time_category'] = 'short'\n",
    "    df.loc[df['prep_time_minutes'] > 15, 'prep_time_category'] = 'medium'\n",
    "    df.loc[df['prep_time_minutes'] > 45, 'prep_time_category'] = 'long'\n",
    "    df.loc[df['prep_time_minutes'] > 180, 'prep_time_category'] = 'extra_long'"
   ]
  },
  {
   "cell_type": "code",
   "execution_count": 19,
   "id": "e3d20e0a",
   "metadata": {},
   "outputs": [],
   "source": [
    "create_prep_time_categories()"
   ]
  },
  {
   "cell_type": "code",
   "execution_count": 20,
   "id": "758372be",
   "metadata": {},
   "outputs": [
    {
     "data": {
      "text/html": [
       "<div>\n",
       "<style scoped>\n",
       "    .dataframe tbody tr th:only-of-type {\n",
       "        vertical-align: middle;\n",
       "    }\n",
       "\n",
       "    .dataframe tbody tr th {\n",
       "        vertical-align: top;\n",
       "    }\n",
       "\n",
       "    .dataframe thead th {\n",
       "        text-align: right;\n",
       "    }\n",
       "</style>\n",
       "<table border=\"1\" class=\"dataframe\">\n",
       "  <thead>\n",
       "    <tr style=\"text-align: right;\">\n",
       "      <th></th>\n",
       "      <th>source</th>\n",
       "      <th>title</th>\n",
       "      <th>contributor_id</th>\n",
       "      <th>tags</th>\n",
       "      <th>nutrition</th>\n",
       "      <th>ingredients</th>\n",
       "      <th>num_ingredients</th>\n",
       "      <th>instructions</th>\n",
       "      <th>num_instruction_steps</th>\n",
       "      <th>prep_time_minutes</th>\n",
       "      <th>prep_time_category</th>\n",
       "    </tr>\n",
       "  </thead>\n",
       "  <tbody>\n",
       "    <tr>\n",
       "      <th>0</th>\n",
       "      <td>food.com</td>\n",
       "      <td>arriba   baked winter squash mexican style</td>\n",
       "      <td>47892</td>\n",
       "      <td>['60-minutes-or-less', 'time-to-make', 'course...</td>\n",
       "      <td>[51.5, 0.0, 13.0, 0.0, 2.0, 0.0, 4.0]</td>\n",
       "      <td>[winter squash, mexican seasoning, mixed spice...</td>\n",
       "      <td>7</td>\n",
       "      <td>[make a choice and proceed with recipe, depend...</td>\n",
       "      <td>11</td>\n",
       "      <td>55</td>\n",
       "      <td>long</td>\n",
       "    </tr>\n",
       "    <tr>\n",
       "      <th>1</th>\n",
       "      <td>food.com</td>\n",
       "      <td>a bit different  breakfast pizza</td>\n",
       "      <td>26278</td>\n",
       "      <td>['30-minutes-or-less', 'time-to-make', 'course...</td>\n",
       "      <td>[173.4, 18.0, 0.0, 17.0, 22.0, 35.0, 1.0]</td>\n",
       "      <td>[prepared pizza crust, sausage patty, eggs, mi...</td>\n",
       "      <td>6</td>\n",
       "      <td>[preheat oven to 425 degrees f, press dough in...</td>\n",
       "      <td>9</td>\n",
       "      <td>30</td>\n",
       "      <td>medium</td>\n",
       "    </tr>\n",
       "  </tbody>\n",
       "</table>\n",
       "</div>"
      ],
      "text/plain": [
       "     source                                       title contributor_id  \\\n",
       "0  food.com  arriba   baked winter squash mexican style          47892   \n",
       "1  food.com            a bit different  breakfast pizza          26278   \n",
       "\n",
       "                                                tags  \\\n",
       "0  ['60-minutes-or-less', 'time-to-make', 'course...   \n",
       "1  ['30-minutes-or-less', 'time-to-make', 'course...   \n",
       "\n",
       "                                   nutrition  \\\n",
       "0      [51.5, 0.0, 13.0, 0.0, 2.0, 0.0, 4.0]   \n",
       "1  [173.4, 18.0, 0.0, 17.0, 22.0, 35.0, 1.0]   \n",
       "\n",
       "                                         ingredients  num_ingredients  \\\n",
       "0  [winter squash, mexican seasoning, mixed spice...                7   \n",
       "1  [prepared pizza crust, sausage patty, eggs, mi...                6   \n",
       "\n",
       "                                        instructions  num_instruction_steps  \\\n",
       "0  [make a choice and proceed with recipe, depend...                     11   \n",
       "1  [preheat oven to 425 degrees f, press dough in...                      9   \n",
       "\n",
       "   prep_time_minutes prep_time_category  \n",
       "0                 55               long  \n",
       "1                 30             medium  "
      ]
     },
     "execution_count": 20,
     "metadata": {},
     "output_type": "execute_result"
    }
   ],
   "source": [
    "df.head(2)"
   ]
  },
  {
   "cell_type": "code",
   "execution_count": 21,
   "id": "7d82d538",
   "metadata": {},
   "outputs": [],
   "source": [
    "# fn to plot prep time categories\n",
    "def show_recipes_per_preptime_category():\n",
    "    category_order = [\"short\", \"medium\", \"long\", \"extra_long\"]\n",
    "    sns.countplot(x=df['prep_time_category'], order=category_order, palette=\"YlGnBu\")\n",
    "    plt.xlabel(\"Prep time category\")\n",
    "    plt.ylabel(\"Count\")\n",
    "    plt.title(\"Number of recipes per prep time category\")\n",
    "\n",
    "    counts = df['prep_time_category'].value_counts()\n",
    "\n",
    "    for i, v in enumerate(category_order):\n",
    "        val = df[df['prep_time_category'] == v].shape[0]\n",
    "        plt.text(i, val+0.1, str('{:,}'.format(val)), ha='center')\n",
    "\n",
    "    plt.show()\n",
    "    \n",
    "    \n",
    "def show_num_ingredients_distributions_per_preptime_category(trim=False):\n",
    "    sns.histplot(data=df[df['num_ingredients']<20] if trim else df, x=\"num_ingredients\", hue='prep_time_category', \n",
    "             kde=True, alpha=0.5, bins=19, kde_kws={'bw_method': 0.4}, palette=\"YlGnBu\")\n",
    "\n",
    "    # add labels and title to the plot\n",
    "    plt.xlabel(\"Number of ingredients\")\n",
    "    plt.ylabel(\"Frequency\")\n",
    "    plt.title(\"Distribution of number of ingredients per prep time category\")\n",
    "\n",
    "    # show the plot\n",
    "    plt.show()"
   ]
  },
  {
   "cell_type": "markdown",
   "id": "fc1e1f9d",
   "metadata": {},
   "source": [
    "### Show number of recipes in dataset by prep time category"
   ]
  },
  {
   "cell_type": "code",
   "execution_count": 22,
   "id": "70fa2476",
   "metadata": {},
   "outputs": [
    {
     "data": {
      "image/png": "[encoded data removed]",
      "text/plain": [
       "<Figure size 640x480 with 1 Axes>"
      ]
     },
     "metadata": {},
     "output_type": "display_data"
    }
   ],
   "source": [
    "show_recipes_per_preptime_category()"
   ]
  },
  {
   "cell_type": "markdown",
   "id": "2429eea2",
   "metadata": {},
   "source": [
    "### Show ingredients amount distribution per prep time category (all ingredient frequencies)"
   ]
  },
  {
   "cell_type": "code",
   "execution_count": 23,
   "id": "7da637d5",
   "metadata": {},
   "outputs": [
    {
     "data": {
      "image/png": "[encoded data removed]",
      "text/plain": [
       "<Figure size 640x480 with 1 Axes>"
      ]
     },
     "metadata": {},
     "output_type": "display_data"
    }
   ],
   "source": [
    "show_num_ingredients_distributions_per_preptime_category()"
   ]
  },
  {
   "cell_type": "markdown",
   "id": "f52c9c42",
   "metadata": {},
   "source": [
    "### Show ingredients amount distribution per prep time category (capped at max 20 inrgedients per recipe)"
   ]
  },
  {
   "cell_type": "code",
   "execution_count": 24,
   "id": "06965cda",
   "metadata": {},
   "outputs": [
    {
     "data": {
      "image/png": "[encoded data removed]",
      "text/plain": [
       "<Figure size 640x480 with 1 Axes>"
      ]
     },
     "metadata": {},
     "output_type": "display_data"
    }
   ],
   "source": [
    "show_num_ingredients_distributions_per_preptime_category(trim=True)"
   ]
  },
  {
   "cell_type": "code",
   "execution_count": 25,
   "id": "0d4baea9",
   "metadata": {},
   "outputs": [],
   "source": [
    "def show_boxplot(data, filter_data):\n",
    "    fig, ax = plt.subplots(1, 3, figsize=(15, 5))\n",
    "    subset = data[filter_data]\n",
    "\n",
    "    for i, col in enumerate(subset.select_dtypes('number')):\n",
    "        sns.boxplot(data=subset, y=col, ax=ax[i], palette=\"YlGnBu\")\n",
    "\n",
    "    plt.show()"
   ]
  },
  {
   "cell_type": "code",
   "execution_count": 26,
   "id": "89f9a142",
   "metadata": {},
   "outputs": [],
   "source": [
    "def remove_outliers_iqr(data, iqr_factor):\n",
    "    q1 = data.quantile(0.25)\n",
    "    q3 = data.quantile(0.75)\n",
    "    iqr = q3 - q1\n",
    "\n",
    "    thresh = iqr_factor * iqr\n",
    "    data = data[~((data < (q1 - thresh)) | (data > (q3 + thresh))).any(axis=1)]\n",
    "\n",
    "    return data"
   ]
  },
  {
   "cell_type": "markdown",
   "id": "23caca34",
   "metadata": {},
   "source": [
    "### Distribution for short and medium prep time recipes"
   ]
  },
  {
   "cell_type": "code",
   "execution_count": 27,
   "id": "5e256220",
   "metadata": {},
   "outputs": [
    {
     "data": {
      "image/png": "[encoded data removed]",
      "text/plain": [
       "<Figure size 1500x500 with 3 Axes>"
      ]
     },
     "metadata": {},
     "output_type": "display_data"
    }
   ],
   "source": [
    "custom_filter = (df['prep_time_category'] == 'short') | (df['prep_time_category'] == 'medium')\n",
    "\n",
    "show_boxplot(df, custom_filter)"
   ]
  },
  {
   "cell_type": "markdown",
   "id": "cda7008e",
   "metadata": {},
   "source": [
    "### Remove outliers - for visualization purposes only"
   ]
  },
  {
   "cell_type": "code",
   "execution_count": 28,
   "id": "c365ff6c",
   "metadata": {},
   "outputs": [],
   "source": [
    "df_no_outliers = remove_outliers_iqr(df, 1.5)"
   ]
  },
  {
   "cell_type": "code",
   "execution_count": 29,
   "id": "d0a17274",
   "metadata": {},
   "outputs": [
    {
     "data": {
      "text/plain": [
       "((198176, 11), (231634, 11))"
      ]
     },
     "execution_count": 29,
     "metadata": {},
     "output_type": "execute_result"
    }
   ],
   "source": [
    "df_no_outliers.shape, df.shape"
   ]
  },
  {
   "cell_type": "markdown",
   "id": "608d30f3",
   "metadata": {},
   "source": [
    "### Distribution for short and medium prep time recipes - outliers removed"
   ]
  },
  {
   "cell_type": "code",
   "execution_count": 30,
   "id": "856a08bc",
   "metadata": {
    "scrolled": false
   },
   "outputs": [
    {
     "data": {
      "image/png": "[encoded data removed]",
      "text/plain": [
       "<Figure size 1500x500 with 3 Axes>"
      ]
     },
     "metadata": {},
     "output_type": "display_data"
    }
   ],
   "source": [
    "show_boxplot(df_no_outliers, custom_filter)"
   ]
  },
  {
   "cell_type": "markdown",
   "id": "6a2d4cf7",
   "metadata": {},
   "source": [
    "Observations:\n",
    "- 50% of recipes for prep time short/medium are having 6 to 10 ingredients\n",
    "- 50% of recipes for prep time short/medium have 5 to 11 instructions steps\n",
    "- 50% of recipes in the short/medium cluster have prep times betweene 15 to 35 minutes\n",
    "\n",
    "Important: **Note that this is for visuialization purposes only - I do not drop the outliers from dataset**"
   ]
  },
  {
   "cell_type": "markdown",
   "id": "8d62f118",
   "metadata": {},
   "source": [
    "### Check number of ingredients & number of instruction steps  in more details"
   ]
  },
  {
   "cell_type": "code",
   "execution_count": 31,
   "id": "17ed5e2d",
   "metadata": {},
   "outputs": [
    {
     "name": "stdout",
     "output_type": "stream",
     "text": [
      "Amount of recipes with ingredients number smaller 2:  25\n"
     ]
    }
   ],
   "source": [
    "print('Amount of recipes with ingredients number smaller 2: ', df[df['num_ingredients']<2].shape[0])"
   ]
  },
  {
   "cell_type": "markdown",
   "id": "87392a99",
   "metadata": {},
   "source": [
    "**Explore some examples with ingredient count 1**"
   ]
  },
  {
   "cell_type": "code",
   "execution_count": 32,
   "id": "bd46a7ca",
   "metadata": {},
   "outputs": [
    {
     "data": {
      "text/html": [
       "<div>\n",
       "<style scoped>\n",
       "    .dataframe tbody tr th:only-of-type {\n",
       "        vertical-align: middle;\n",
       "    }\n",
       "\n",
       "    .dataframe tbody tr th {\n",
       "        vertical-align: top;\n",
       "    }\n",
       "\n",
       "    .dataframe thead th {\n",
       "        text-align: right;\n",
       "    }\n",
       "</style>\n",
       "<table border=\"1\" class=\"dataframe\">\n",
       "  <thead>\n",
       "    <tr style=\"text-align: right;\">\n",
       "      <th></th>\n",
       "      <th>source</th>\n",
       "      <th>title</th>\n",
       "      <th>contributor_id</th>\n",
       "      <th>tags</th>\n",
       "      <th>nutrition</th>\n",
       "      <th>ingredients</th>\n",
       "      <th>num_ingredients</th>\n",
       "      <th>instructions</th>\n",
       "      <th>num_instruction_steps</th>\n",
       "      <th>prep_time_minutes</th>\n",
       "      <th>prep_time_category</th>\n",
       "    </tr>\n",
       "  </thead>\n",
       "  <tbody>\n",
       "    <tr>\n",
       "      <th>86040</th>\n",
       "      <td>food.com</td>\n",
       "      <td>freezing eggs</td>\n",
       "      <td>249074</td>\n",
       "      <td>['60-minutes-or-less', 'time-to-make', 'main-i...</td>\n",
       "      <td>[11.9, 1.0, 0.0, 0.0, 2.0, 1.0, 0.0]</td>\n",
       "      <td>[egg]</td>\n",
       "      <td>1</td>\n",
       "      <td>[items needed:, eggs, ziplock bags , various s...</td>\n",
       "      <td>37</td>\n",
       "      <td>35</td>\n",
       "      <td>medium</td>\n",
       "    </tr>\n",
       "    <tr>\n",
       "      <th>148440</th>\n",
       "      <td>food.com</td>\n",
       "      <td>open pesky pistachio nuts</td>\n",
       "      <td>593927</td>\n",
       "      <td>['15-minutes-or-less', 'time-to-make', 'prepar...</td>\n",
       "      <td>[7.8, 0.0, 0.0, 0.0, 0.0, 0.0, 0.0]</td>\n",
       "      <td>[pistachio nut]</td>\n",
       "      <td>1</td>\n",
       "      <td>[take the blunt knife and stick it into the en...</td>\n",
       "      <td>4</td>\n",
       "      <td>1</td>\n",
       "      <td>short</td>\n",
       "    </tr>\n",
       "    <tr>\n",
       "      <th>6499</th>\n",
       "      <td>food.com</td>\n",
       "      <td>apple cider reduction</td>\n",
       "      <td>171084</td>\n",
       "      <td>['time-to-make', 'course', 'preparation', 'low...</td>\n",
       "      <td>[14.4, 0.0, 0.0, 8.0, 0.0, 0.0, 1.0]</td>\n",
       "      <td>[apple cider]</td>\n",
       "      <td>1</td>\n",
       "      <td>[in 6-8 quart stock pan , measure out 2 cups o...</td>\n",
       "      <td>13</td>\n",
       "      <td>155</td>\n",
       "      <td>long</td>\n",
       "    </tr>\n",
       "  </tbody>\n",
       "</table>\n",
       "</div>"
      ],
      "text/plain": [
       "          source                      title contributor_id  \\\n",
       "86040   food.com              freezing eggs         249074   \n",
       "148440  food.com  open pesky pistachio nuts         593927   \n",
       "6499    food.com      apple cider reduction         171084   \n",
       "\n",
       "                                                     tags  \\\n",
       "86040   ['60-minutes-or-less', 'time-to-make', 'main-i...   \n",
       "148440  ['15-minutes-or-less', 'time-to-make', 'prepar...   \n",
       "6499    ['time-to-make', 'course', 'preparation', 'low...   \n",
       "\n",
       "                                   nutrition      ingredients  \\\n",
       "86040   [11.9, 1.0, 0.0, 0.0, 2.0, 1.0, 0.0]            [egg]   \n",
       "148440   [7.8, 0.0, 0.0, 0.0, 0.0, 0.0, 0.0]  [pistachio nut]   \n",
       "6499    [14.4, 0.0, 0.0, 8.0, 0.0, 0.0, 1.0]    [apple cider]   \n",
       "\n",
       "        num_ingredients                                       instructions  \\\n",
       "86040                 1  [items needed:, eggs, ziplock bags , various s...   \n",
       "148440                1  [take the blunt knife and stick it into the en...   \n",
       "6499                  1  [in 6-8 quart stock pan , measure out 2 cups o...   \n",
       "\n",
       "        num_instruction_steps  prep_time_minutes prep_time_category  \n",
       "86040                      37                 35             medium  \n",
       "148440                      4                  1              short  \n",
       "6499                       13                155               long  "
      ]
     },
     "execution_count": 32,
     "metadata": {},
     "output_type": "execute_result"
    }
   ],
   "source": [
    "df[df['num_ingredients']<2].sample(3)"
   ]
  },
  {
   "cell_type": "code",
   "execution_count": 33,
   "id": "4b13044f",
   "metadata": {},
   "outputs": [
    {
     "name": "stdout",
     "output_type": "stream",
     "text": [
      "Amount of recipes with instruction steps smaller 2:  2443\n"
     ]
    }
   ],
   "source": [
    "print('Amount of recipes with instruction steps smaller 2: ', df[df['num_instruction_steps']<2].shape[0])"
   ]
  },
  {
   "cell_type": "markdown",
   "id": "9046e8f4",
   "metadata": {},
   "source": [
    "**Explore some examples with instruction steps count 1**"
   ]
  },
  {
   "cell_type": "code",
   "execution_count": 34,
   "id": "8993e675",
   "metadata": {},
   "outputs": [
    {
     "data": {
      "text/html": [
       "<div>\n",
       "<style scoped>\n",
       "    .dataframe tbody tr th:only-of-type {\n",
       "        vertical-align: middle;\n",
       "    }\n",
       "\n",
       "    .dataframe tbody tr th {\n",
       "        vertical-align: top;\n",
       "    }\n",
       "\n",
       "    .dataframe thead th {\n",
       "        text-align: right;\n",
       "    }\n",
       "</style>\n",
       "<table border=\"1\" class=\"dataframe\">\n",
       "  <thead>\n",
       "    <tr style=\"text-align: right;\">\n",
       "      <th></th>\n",
       "      <th>source</th>\n",
       "      <th>title</th>\n",
       "      <th>contributor_id</th>\n",
       "      <th>tags</th>\n",
       "      <th>nutrition</th>\n",
       "      <th>ingredients</th>\n",
       "      <th>num_ingredients</th>\n",
       "      <th>instructions</th>\n",
       "      <th>num_instruction_steps</th>\n",
       "      <th>prep_time_minutes</th>\n",
       "      <th>prep_time_category</th>\n",
       "    </tr>\n",
       "  </thead>\n",
       "  <tbody>\n",
       "    <tr>\n",
       "      <th>165760</th>\n",
       "      <td>food.com</td>\n",
       "      <td>prenatal strawberry banana smoothies</td>\n",
       "      <td>505325</td>\n",
       "      <td>['15-minutes-or-less', 'time-to-make', 'course...</td>\n",
       "      <td>[99.8, 0.0, 59.0, 0.0, 2.0, 0.0, 8.0]</td>\n",
       "      <td>[nonfat vanilla yogurt, frozen strawberries, o...</td>\n",
       "      <td>4</td>\n",
       "      <td>[place all ingredients in a blender and blend ...</td>\n",
       "      <td>1</td>\n",
       "      <td>10</td>\n",
       "      <td>short</td>\n",
       "    </tr>\n",
       "    <tr>\n",
       "      <th>208279</th>\n",
       "      <td>food.com</td>\n",
       "      <td>tandoori marinade</td>\n",
       "      <td>266635</td>\n",
       "      <td>['weeknight', '15-minutes-or-less', 'time-to-m...</td>\n",
       "      <td>[173.9, 13.0, 46.0, 101.0, 19.0, 26.0, 5.0]</td>\n",
       "      <td>[plain yogurt, garlic cloves, fresh ginger, gr...</td>\n",
       "      <td>8</td>\n",
       "      <td>[combine all ingredients and marinate meat and...</td>\n",
       "      <td>1</td>\n",
       "      <td>10</td>\n",
       "      <td>short</td>\n",
       "    </tr>\n",
       "    <tr>\n",
       "      <th>169436</th>\n",
       "      <td>food.com</td>\n",
       "      <td>quick tuna spread  lower carb</td>\n",
       "      <td>37636</td>\n",
       "      <td>['15-minutes-or-less', 'time-to-make', 'course...</td>\n",
       "      <td>[161.3, 8.0, 5.0, 20.0, 46.0, 5.0, 1.0]</td>\n",
       "      <td>[tuna in water, mayonnaise, bread and butter p...</td>\n",
       "      <td>4</td>\n",
       "      <td>[mix and serve on whole grain bread , rolls , ...</td>\n",
       "      <td>1</td>\n",
       "      <td>5</td>\n",
       "      <td>short</td>\n",
       "    </tr>\n",
       "  </tbody>\n",
       "</table>\n",
       "</div>"
      ],
      "text/plain": [
       "          source                                 title contributor_id  \\\n",
       "165760  food.com  prenatal strawberry banana smoothies         505325   \n",
       "208279  food.com                     tandoori marinade         266635   \n",
       "169436  food.com         quick tuna spread  lower carb          37636   \n",
       "\n",
       "                                                     tags  \\\n",
       "165760  ['15-minutes-or-less', 'time-to-make', 'course...   \n",
       "208279  ['weeknight', '15-minutes-or-less', 'time-to-m...   \n",
       "169436  ['15-minutes-or-less', 'time-to-make', 'course...   \n",
       "\n",
       "                                          nutrition  \\\n",
       "165760        [99.8, 0.0, 59.0, 0.0, 2.0, 0.0, 8.0]   \n",
       "208279  [173.9, 13.0, 46.0, 101.0, 19.0, 26.0, 5.0]   \n",
       "169436      [161.3, 8.0, 5.0, 20.0, 46.0, 5.0, 1.0]   \n",
       "\n",
       "                                              ingredients  num_ingredients  \\\n",
       "165760  [nonfat vanilla yogurt, frozen strawberries, o...                4   \n",
       "208279  [plain yogurt, garlic cloves, fresh ginger, gr...                8   \n",
       "169436  [tuna in water, mayonnaise, bread and butter p...                4   \n",
       "\n",
       "                                             instructions  \\\n",
       "165760  [place all ingredients in a blender and blend ...   \n",
       "208279  [combine all ingredients and marinate meat and...   \n",
       "169436  [mix and serve on whole grain bread , rolls , ...   \n",
       "\n",
       "        num_instruction_steps  prep_time_minutes prep_time_category  \n",
       "165760                      1                 10              short  \n",
       "208279                      1                 10              short  \n",
       "169436                      1                  5              short  "
      ]
     },
     "execution_count": 34,
     "metadata": {},
     "output_type": "execute_result"
    }
   ],
   "source": [
    "df[df['num_instruction_steps']<2].sample(3)"
   ]
  },
  {
   "cell_type": "code",
   "execution_count": 35,
   "id": "ac484215",
   "metadata": {},
   "outputs": [
    {
     "name": "stdout",
     "output_type": "stream",
     "text": [
      "['combine all the ingredients in a blender and process until smooth']\n",
      "-----\n",
      "['combine in glass and top with chocolate milk']\n"
     ]
    }
   ],
   "source": [
    "print(df.iloc[16767]['instructions'])\n",
    "print('-----')\n",
    "print(df.iloc[49437]['instructions'])"
   ]
  },
  {
   "cell_type": "markdown",
   "id": "8e577447",
   "metadata": {},
   "source": [
    "### Drop samples with one instruction step and samples with only one ingredient "
   ]
  },
  {
   "cell_type": "code",
   "execution_count": 36,
   "id": "9fb6cdd6",
   "metadata": {},
   "outputs": [
    {
     "name": "stdout",
     "output_type": "stream",
     "text": [
      "(231634, 11)\n",
      "(229166, 11)\n"
     ]
    }
   ],
   "source": [
    "indexes_to_drop = [*df[df['num_instruction_steps']<2].index, *df[df['num_ingredients']<2].index ]\n",
    "print(df.shape)\n",
    "df.drop(index=indexes_to_drop, inplace=True)\n",
    "print(df.shape)"
   ]
  },
  {
   "cell_type": "markdown",
   "id": "df0e027e",
   "metadata": {},
   "source": [
    "## Categorical Features"
   ]
  },
  {
   "cell_type": "code",
   "execution_count": 37,
   "id": "c1641a80",
   "metadata": {},
   "outputs": [
    {
     "data": {
      "text/plain": [
       "Index(['source', 'title', 'contributor_id', 'tags', 'nutrition', 'ingredients',\n",
       "       'instructions', 'prep_time_category'],\n",
       "      dtype='object')"
      ]
     },
     "execution_count": 37,
     "metadata": {},
     "output_type": "execute_result"
    }
   ],
   "source": [
    "df.select_dtypes('object').columns"
   ]
  },
  {
   "cell_type": "markdown",
   "id": "1d52a911",
   "metadata": {},
   "source": [
    "### Check ingredients"
   ]
  },
  {
   "cell_type": "code",
   "execution_count": 38,
   "id": "af5ed297",
   "metadata": {},
   "outputs": [],
   "source": [
    "ingredients = [item for sublist in df['ingredients'].values for item in sublist]"
   ]
  },
  {
   "cell_type": "code",
   "execution_count": 39,
   "id": "48478d6d",
   "metadata": {},
   "outputs": [
    {
     "name": "stdout",
     "output_type": "stream",
     "text": [
      "Count ingredients from all recipes 2082456\n"
     ]
    }
   ],
   "source": [
    "print('Count ingredients from all recipes', len(ingredients))"
   ]
  },
  {
   "cell_type": "code",
   "execution_count": 40,
   "id": "5439bf4a",
   "metadata": {},
   "outputs": [
    {
     "name": "stdout",
     "output_type": "stream",
     "text": [
      "Count unique ingredients: 14915\n"
     ]
    }
   ],
   "source": [
    "print('Count unique ingredients:', len(set(ingredients)))"
   ]
  },
  {
   "cell_type": "markdown",
   "id": "4745e83b",
   "metadata": {},
   "source": [
    "### Create list of unique ingredients and count how many times they appeared in recipes"
   ]
  },
  {
   "cell_type": "code",
   "execution_count": 41,
   "id": "323aae4a",
   "metadata": {},
   "outputs": [],
   "source": [
    "ingred = pd.Series(ingredients)\n",
    "df_ingredients = pd.DataFrame()\n",
    "df_ingredients['ingredient'] = ingred.value_counts().index\n",
    "df_ingredients['occurence'] = ingred.value_counts().values"
   ]
  },
  {
   "cell_type": "code",
   "execution_count": 42,
   "id": "a9ea8a3c",
   "metadata": {},
   "outputs": [
    {
     "data": {
      "text/html": [
       "<div>\n",
       "<style scoped>\n",
       "    .dataframe tbody tr th:only-of-type {\n",
       "        vertical-align: middle;\n",
       "    }\n",
       "\n",
       "    .dataframe tbody tr th {\n",
       "        vertical-align: top;\n",
       "    }\n",
       "\n",
       "    .dataframe thead th {\n",
       "        text-align: right;\n",
       "    }\n",
       "</style>\n",
       "<table border=\"1\" class=\"dataframe\">\n",
       "  <thead>\n",
       "    <tr style=\"text-align: right;\">\n",
       "      <th></th>\n",
       "      <th>ingredient</th>\n",
       "      <th>occurence</th>\n",
       "    </tr>\n",
       "  </thead>\n",
       "  <tbody>\n",
       "    <tr>\n",
       "      <th>2383</th>\n",
       "      <td>kernel corn</td>\n",
       "      <td>62</td>\n",
       "    </tr>\n",
       "    <tr>\n",
       "      <th>10236</th>\n",
       "      <td>wholemeal rye flour</td>\n",
       "      <td>2</td>\n",
       "    </tr>\n",
       "    <tr>\n",
       "      <th>3975</th>\n",
       "      <td>ponzu sauce</td>\n",
       "      <td>24</td>\n",
       "    </tr>\n",
       "  </tbody>\n",
       "</table>\n",
       "</div>"
      ],
      "text/plain": [
       "                ingredient  occurence\n",
       "2383           kernel corn         62\n",
       "10236  wholemeal rye flour          2\n",
       "3975           ponzu sauce         24"
      ]
     },
     "execution_count": 42,
     "metadata": {},
     "output_type": "execute_result"
    }
   ],
   "source": [
    "df_ingredients.sample(3)"
   ]
  },
  {
   "cell_type": "markdown",
   "id": "5ade4262",
   "metadata": {},
   "source": [
    "### Top 25 ingredients from all recipes"
   ]
  },
  {
   "cell_type": "code",
   "execution_count": 43,
   "id": "036b18d7",
   "metadata": {},
   "outputs": [
    {
     "data": {
      "text/html": [
       "<div>\n",
       "<style scoped>\n",
       "    .dataframe tbody tr th:only-of-type {\n",
       "        vertical-align: middle;\n",
       "    }\n",
       "\n",
       "    .dataframe tbody tr th {\n",
       "        vertical-align: top;\n",
       "    }\n",
       "\n",
       "    .dataframe thead th {\n",
       "        text-align: right;\n",
       "    }\n",
       "</style>\n",
       "<table border=\"1\" class=\"dataframe\">\n",
       "  <thead>\n",
       "    <tr style=\"text-align: right;\">\n",
       "      <th></th>\n",
       "      <th>ingredient</th>\n",
       "      <th>occurence</th>\n",
       "    </tr>\n",
       "  </thead>\n",
       "  <tbody>\n",
       "    <tr>\n",
       "      <th>0</th>\n",
       "      <td>salt</td>\n",
       "      <td>85319</td>\n",
       "    </tr>\n",
       "    <tr>\n",
       "      <th>1</th>\n",
       "      <td>butter</td>\n",
       "      <td>54881</td>\n",
       "    </tr>\n",
       "    <tr>\n",
       "      <th>2</th>\n",
       "      <td>sugar</td>\n",
       "      <td>44261</td>\n",
       "    </tr>\n",
       "    <tr>\n",
       "      <th>3</th>\n",
       "      <td>onion</td>\n",
       "      <td>38929</td>\n",
       "    </tr>\n",
       "    <tr>\n",
       "      <th>4</th>\n",
       "      <td>water</td>\n",
       "      <td>34741</td>\n",
       "    </tr>\n",
       "    <tr>\n",
       "      <th>5</th>\n",
       "      <td>eggs</td>\n",
       "      <td>33729</td>\n",
       "    </tr>\n",
       "    <tr>\n",
       "      <th>6</th>\n",
       "      <td>olive oil</td>\n",
       "      <td>32681</td>\n",
       "    </tr>\n",
       "    <tr>\n",
       "      <th>7</th>\n",
       "      <td>flour</td>\n",
       "      <td>26238</td>\n",
       "    </tr>\n",
       "    <tr>\n",
       "      <th>8</th>\n",
       "      <td>garlic cloves</td>\n",
       "      <td>25671</td>\n",
       "    </tr>\n",
       "    <tr>\n",
       "      <th>9</th>\n",
       "      <td>milk</td>\n",
       "      <td>25606</td>\n",
       "    </tr>\n",
       "    <tr>\n",
       "      <th>10</th>\n",
       "      <td>pepper</td>\n",
       "      <td>22196</td>\n",
       "    </tr>\n",
       "    <tr>\n",
       "      <th>11</th>\n",
       "      <td>brown sugar</td>\n",
       "      <td>18549</td>\n",
       "    </tr>\n",
       "    <tr>\n",
       "      <th>12</th>\n",
       "      <td>garlic</td>\n",
       "      <td>17952</td>\n",
       "    </tr>\n",
       "    <tr>\n",
       "      <th>13</th>\n",
       "      <td>all-purpose flour</td>\n",
       "      <td>17650</td>\n",
       "    </tr>\n",
       "    <tr>\n",
       "      <th>14</th>\n",
       "      <td>baking powder</td>\n",
       "      <td>17482</td>\n",
       "    </tr>\n",
       "    <tr>\n",
       "      <th>15</th>\n",
       "      <td>egg</td>\n",
       "      <td>17270</td>\n",
       "    </tr>\n",
       "    <tr>\n",
       "      <th>16</th>\n",
       "      <td>salt and pepper</td>\n",
       "      <td>15326</td>\n",
       "    </tr>\n",
       "    <tr>\n",
       "      <th>17</th>\n",
       "      <td>parmesan cheese</td>\n",
       "      <td>14774</td>\n",
       "    </tr>\n",
       "    <tr>\n",
       "      <th>18</th>\n",
       "      <td>baking soda</td>\n",
       "      <td>14082</td>\n",
       "    </tr>\n",
       "    <tr>\n",
       "      <th>19</th>\n",
       "      <td>lemon juice</td>\n",
       "      <td>14050</td>\n",
       "    </tr>\n",
       "    <tr>\n",
       "      <th>20</th>\n",
       "      <td>vegetable oil</td>\n",
       "      <td>13863</td>\n",
       "    </tr>\n",
       "    <tr>\n",
       "      <th>21</th>\n",
       "      <td>vanilla</td>\n",
       "      <td>13259</td>\n",
       "    </tr>\n",
       "    <tr>\n",
       "      <th>22</th>\n",
       "      <td>black pepper</td>\n",
       "      <td>12985</td>\n",
       "    </tr>\n",
       "    <tr>\n",
       "      <th>23</th>\n",
       "      <td>cinnamon</td>\n",
       "      <td>12485</td>\n",
       "    </tr>\n",
       "    <tr>\n",
       "      <th>24</th>\n",
       "      <td>tomatoes</td>\n",
       "      <td>11868</td>\n",
       "    </tr>\n",
       "  </tbody>\n",
       "</table>\n",
       "</div>"
      ],
      "text/plain": [
       "           ingredient  occurence\n",
       "0                salt      85319\n",
       "1              butter      54881\n",
       "2               sugar      44261\n",
       "3               onion      38929\n",
       "4               water      34741\n",
       "5                eggs      33729\n",
       "6           olive oil      32681\n",
       "7               flour      26238\n",
       "8       garlic cloves      25671\n",
       "9                milk      25606\n",
       "10             pepper      22196\n",
       "11        brown sugar      18549\n",
       "12             garlic      17952\n",
       "13  all-purpose flour      17650\n",
       "14      baking powder      17482\n",
       "15                egg      17270\n",
       "16    salt and pepper      15326\n",
       "17    parmesan cheese      14774\n",
       "18        baking soda      14082\n",
       "19        lemon juice      14050\n",
       "20      vegetable oil      13863\n",
       "21            vanilla      13259\n",
       "22       black pepper      12985\n",
       "23           cinnamon      12485\n",
       "24           tomatoes      11868"
      ]
     },
     "execution_count": 43,
     "metadata": {},
     "output_type": "execute_result"
    }
   ],
   "source": [
    "df_ingredients.head(25)"
   ]
  },
  {
   "cell_type": "code",
   "execution_count": 44,
   "id": "4ad74390",
   "metadata": {},
   "outputs": [],
   "source": [
    "df_ingredients.to_csv('dataset-prepared/df_ingredients.csv')"
   ]
  },
  {
   "cell_type": "code",
   "execution_count": 2,
   "id": "34e83893",
   "metadata": {},
   "outputs": [],
   "source": [
    "ing = pd.read_csv('dataset-prepared/df_ingredients.csv')"
   ]
  },
  {
   "cell_type": "code",
   "execution_count": 5,
   "id": "abbb2377",
   "metadata": {},
   "outputs": [
    {
     "data": {
      "text/html": [
       "<div>\n",
       "<style scoped>\n",
       "    .dataframe tbody tr th:only-of-type {\n",
       "        vertical-align: middle;\n",
       "    }\n",
       "\n",
       "    .dataframe tbody tr th {\n",
       "        vertical-align: top;\n",
       "    }\n",
       "\n",
       "    .dataframe thead th {\n",
       "        text-align: right;\n",
       "    }\n",
       "</style>\n",
       "<table border=\"1\" class=\"dataframe\">\n",
       "  <thead>\n",
       "    <tr style=\"text-align: right;\">\n",
       "      <th></th>\n",
       "      <th>Unnamed: 0</th>\n",
       "      <th>ingredient</th>\n",
       "      <th>occurence</th>\n",
       "    </tr>\n",
       "  </thead>\n",
       "  <tbody>\n",
       "    <tr>\n",
       "      <th>0</th>\n",
       "      <td>0</td>\n",
       "      <td>salt</td>\n",
       "      <td>85319</td>\n",
       "    </tr>\n",
       "    <tr>\n",
       "      <th>1</th>\n",
       "      <td>1</td>\n",
       "      <td>butter</td>\n",
       "      <td>54881</td>\n",
       "    </tr>\n",
       "    <tr>\n",
       "      <th>2</th>\n",
       "      <td>2</td>\n",
       "      <td>sugar</td>\n",
       "      <td>44261</td>\n",
       "    </tr>\n",
       "    <tr>\n",
       "      <th>3</th>\n",
       "      <td>3</td>\n",
       "      <td>onion</td>\n",
       "      <td>38929</td>\n",
       "    </tr>\n",
       "    <tr>\n",
       "      <th>4</th>\n",
       "      <td>4</td>\n",
       "      <td>water</td>\n",
       "      <td>34741</td>\n",
       "    </tr>\n",
       "    <tr>\n",
       "      <th>5</th>\n",
       "      <td>5</td>\n",
       "      <td>eggs</td>\n",
       "      <td>33729</td>\n",
       "    </tr>\n",
       "    <tr>\n",
       "      <th>6</th>\n",
       "      <td>6</td>\n",
       "      <td>olive oil</td>\n",
       "      <td>32681</td>\n",
       "    </tr>\n",
       "    <tr>\n",
       "      <th>7</th>\n",
       "      <td>7</td>\n",
       "      <td>flour</td>\n",
       "      <td>26238</td>\n",
       "    </tr>\n",
       "    <tr>\n",
       "      <th>8</th>\n",
       "      <td>8</td>\n",
       "      <td>garlic cloves</td>\n",
       "      <td>25671</td>\n",
       "    </tr>\n",
       "    <tr>\n",
       "      <th>9</th>\n",
       "      <td>9</td>\n",
       "      <td>milk</td>\n",
       "      <td>25606</td>\n",
       "    </tr>\n",
       "    <tr>\n",
       "      <th>10</th>\n",
       "      <td>10</td>\n",
       "      <td>pepper</td>\n",
       "      <td>22196</td>\n",
       "    </tr>\n",
       "    <tr>\n",
       "      <th>11</th>\n",
       "      <td>11</td>\n",
       "      <td>brown sugar</td>\n",
       "      <td>18549</td>\n",
       "    </tr>\n",
       "    <tr>\n",
       "      <th>12</th>\n",
       "      <td>12</td>\n",
       "      <td>garlic</td>\n",
       "      <td>17952</td>\n",
       "    </tr>\n",
       "    <tr>\n",
       "      <th>13</th>\n",
       "      <td>13</td>\n",
       "      <td>all-purpose flour</td>\n",
       "      <td>17650</td>\n",
       "    </tr>\n",
       "    <tr>\n",
       "      <th>14</th>\n",
       "      <td>14</td>\n",
       "      <td>baking powder</td>\n",
       "      <td>17482</td>\n",
       "    </tr>\n",
       "    <tr>\n",
       "      <th>15</th>\n",
       "      <td>15</td>\n",
       "      <td>egg</td>\n",
       "      <td>17270</td>\n",
       "    </tr>\n",
       "    <tr>\n",
       "      <th>16</th>\n",
       "      <td>16</td>\n",
       "      <td>salt and pepper</td>\n",
       "      <td>15326</td>\n",
       "    </tr>\n",
       "    <tr>\n",
       "      <th>17</th>\n",
       "      <td>17</td>\n",
       "      <td>parmesan cheese</td>\n",
       "      <td>14774</td>\n",
       "    </tr>\n",
       "    <tr>\n",
       "      <th>18</th>\n",
       "      <td>18</td>\n",
       "      <td>baking soda</td>\n",
       "      <td>14082</td>\n",
       "    </tr>\n",
       "    <tr>\n",
       "      <th>19</th>\n",
       "      <td>19</td>\n",
       "      <td>lemon juice</td>\n",
       "      <td>14050</td>\n",
       "    </tr>\n",
       "    <tr>\n",
       "      <th>20</th>\n",
       "      <td>20</td>\n",
       "      <td>vegetable oil</td>\n",
       "      <td>13863</td>\n",
       "    </tr>\n",
       "    <tr>\n",
       "      <th>21</th>\n",
       "      <td>21</td>\n",
       "      <td>vanilla</td>\n",
       "      <td>13259</td>\n",
       "    </tr>\n",
       "    <tr>\n",
       "      <th>22</th>\n",
       "      <td>22</td>\n",
       "      <td>black pepper</td>\n",
       "      <td>12985</td>\n",
       "    </tr>\n",
       "    <tr>\n",
       "      <th>23</th>\n",
       "      <td>23</td>\n",
       "      <td>cinnamon</td>\n",
       "      <td>12485</td>\n",
       "    </tr>\n",
       "    <tr>\n",
       "      <th>24</th>\n",
       "      <td>24</td>\n",
       "      <td>tomatoes</td>\n",
       "      <td>11868</td>\n",
       "    </tr>\n",
       "    <tr>\n",
       "      <th>25</th>\n",
       "      <td>25</td>\n",
       "      <td>sour cream</td>\n",
       "      <td>11692</td>\n",
       "    </tr>\n",
       "    <tr>\n",
       "      <th>26</th>\n",
       "      <td>26</td>\n",
       "      <td>garlic powder</td>\n",
       "      <td>10735</td>\n",
       "    </tr>\n",
       "    <tr>\n",
       "      <th>27</th>\n",
       "      <td>27</td>\n",
       "      <td>vanilla extract</td>\n",
       "      <td>10234</td>\n",
       "    </tr>\n",
       "    <tr>\n",
       "      <th>28</th>\n",
       "      <td>28</td>\n",
       "      <td>oil</td>\n",
       "      <td>9891</td>\n",
       "    </tr>\n",
       "    <tr>\n",
       "      <th>29</th>\n",
       "      <td>29</td>\n",
       "      <td>onions</td>\n",
       "      <td>9842</td>\n",
       "    </tr>\n",
       "    <tr>\n",
       "      <th>30</th>\n",
       "      <td>30</td>\n",
       "      <td>cream cheese</td>\n",
       "      <td>9760</td>\n",
       "    </tr>\n",
       "    <tr>\n",
       "      <th>31</th>\n",
       "      <td>31</td>\n",
       "      <td>honey</td>\n",
       "      <td>9738</td>\n",
       "    </tr>\n",
       "    <tr>\n",
       "      <th>32</th>\n",
       "      <td>32</td>\n",
       "      <td>garlic clove</td>\n",
       "      <td>9712</td>\n",
       "    </tr>\n",
       "    <tr>\n",
       "      <th>33</th>\n",
       "      <td>33</td>\n",
       "      <td>celery</td>\n",
       "      <td>9486</td>\n",
       "    </tr>\n",
       "    <tr>\n",
       "      <th>34</th>\n",
       "      <td>34</td>\n",
       "      <td>cheddar cheese</td>\n",
       "      <td>8936</td>\n",
       "    </tr>\n",
       "    <tr>\n",
       "      <th>35</th>\n",
       "      <td>35</td>\n",
       "      <td>unsalted butter</td>\n",
       "      <td>8925</td>\n",
       "    </tr>\n",
       "    <tr>\n",
       "      <th>36</th>\n",
       "      <td>36</td>\n",
       "      <td>soy sauce</td>\n",
       "      <td>8770</td>\n",
       "    </tr>\n",
       "    <tr>\n",
       "      <th>37</th>\n",
       "      <td>37</td>\n",
       "      <td>mayonnaise</td>\n",
       "      <td>8550</td>\n",
       "    </tr>\n",
       "    <tr>\n",
       "      <th>38</th>\n",
       "      <td>38</td>\n",
       "      <td>chicken broth</td>\n",
       "      <td>7952</td>\n",
       "    </tr>\n",
       "    <tr>\n",
       "      <th>39</th>\n",
       "      <td>39</td>\n",
       "      <td>paprika</td>\n",
       "      <td>7862</td>\n",
       "    </tr>\n",
       "    <tr>\n",
       "      <th>40</th>\n",
       "      <td>40</td>\n",
       "      <td>worcestershire sauce</td>\n",
       "      <td>7729</td>\n",
       "    </tr>\n",
       "    <tr>\n",
       "      <th>41</th>\n",
       "      <td>41</td>\n",
       "      <td>extra virgin olive oil</td>\n",
       "      <td>7656</td>\n",
       "    </tr>\n",
       "    <tr>\n",
       "      <th>42</th>\n",
       "      <td>42</td>\n",
       "      <td>fresh parsley</td>\n",
       "      <td>7621</td>\n",
       "    </tr>\n",
       "    <tr>\n",
       "      <th>43</th>\n",
       "      <td>43</td>\n",
       "      <td>cornstarch</td>\n",
       "      <td>7471</td>\n",
       "    </tr>\n",
       "    <tr>\n",
       "      <th>44</th>\n",
       "      <td>44</td>\n",
       "      <td>fresh ground black pepper</td>\n",
       "      <td>7119</td>\n",
       "    </tr>\n",
       "    <tr>\n",
       "      <th>45</th>\n",
       "      <td>45</td>\n",
       "      <td>carrots</td>\n",
       "      <td>6983</td>\n",
       "    </tr>\n",
       "    <tr>\n",
       "      <th>46</th>\n",
       "      <td>46</td>\n",
       "      <td>parsley</td>\n",
       "      <td>6957</td>\n",
       "    </tr>\n",
       "    <tr>\n",
       "      <th>47</th>\n",
       "      <td>47</td>\n",
       "      <td>bacon</td>\n",
       "      <td>6925</td>\n",
       "    </tr>\n",
       "    <tr>\n",
       "      <th>48</th>\n",
       "      <td>48</td>\n",
       "      <td>chili powder</td>\n",
       "      <td>6908</td>\n",
       "    </tr>\n",
       "    <tr>\n",
       "      <th>49</th>\n",
       "      <td>49</td>\n",
       "      <td>ground cinnamon</td>\n",
       "      <td>6824</td>\n",
       "    </tr>\n",
       "  </tbody>\n",
       "</table>\n",
       "</div>"
      ],
      "text/plain": [
       "    Unnamed: 0                 ingredient  occurence\n",
       "0            0                       salt      85319\n",
       "1            1                     butter      54881\n",
       "2            2                      sugar      44261\n",
       "3            3                      onion      38929\n",
       "4            4                      water      34741\n",
       "5            5                       eggs      33729\n",
       "6            6                  olive oil      32681\n",
       "7            7                      flour      26238\n",
       "8            8              garlic cloves      25671\n",
       "9            9                       milk      25606\n",
       "10          10                     pepper      22196\n",
       "11          11                brown sugar      18549\n",
       "12          12                     garlic      17952\n",
       "13          13          all-purpose flour      17650\n",
       "14          14              baking powder      17482\n",
       "15          15                        egg      17270\n",
       "16          16            salt and pepper      15326\n",
       "17          17            parmesan cheese      14774\n",
       "18          18                baking soda      14082\n",
       "19          19                lemon juice      14050\n",
       "20          20              vegetable oil      13863\n",
       "21          21                    vanilla      13259\n",
       "22          22               black pepper      12985\n",
       "23          23                   cinnamon      12485\n",
       "24          24                   tomatoes      11868\n",
       "25          25                 sour cream      11692\n",
       "26          26              garlic powder      10735\n",
       "27          27            vanilla extract      10234\n",
       "28          28                        oil       9891\n",
       "29          29                     onions       9842\n",
       "30          30               cream cheese       9760\n",
       "31          31                      honey       9738\n",
       "32          32               garlic clove       9712\n",
       "33          33                     celery       9486\n",
       "34          34             cheddar cheese       8936\n",
       "35          35            unsalted butter       8925\n",
       "36          36                  soy sauce       8770\n",
       "37          37                 mayonnaise       8550\n",
       "38          38              chicken broth       7952\n",
       "39          39                    paprika       7862\n",
       "40          40       worcestershire sauce       7729\n",
       "41          41     extra virgin olive oil       7656\n",
       "42          42              fresh parsley       7621\n",
       "43          43                 cornstarch       7471\n",
       "44          44  fresh ground black pepper       7119\n",
       "45          45                    carrots       6983\n",
       "46          46                    parsley       6957\n",
       "47          47                      bacon       6925\n",
       "48          48               chili powder       6908\n",
       "49          49            ground cinnamon       6824"
      ]
     },
     "execution_count": 5,
     "metadata": {},
     "output_type": "execute_result"
    }
   ],
   "source": [
    "ing.head(50)"
   ]
  },
  {
   "cell_type": "markdown",
   "id": "c7f622e0",
   "metadata": {},
   "source": [
    "# Preprocessing"
   ]
  },
  {
   "cell_type": "code",
   "execution_count": 63,
   "id": "58ef1f45",
   "metadata": {},
   "outputs": [],
   "source": [
    "def create_combined_entry(row):\n",
    "    special_token = '<|endoftext|>'\n",
    "    new_line = '\\n'\n",
    "    \n",
    "    entry = f\"\"\"\n",
    "    Ingredients:\n",
    "    {new_line.join(row['ingredients'])}\n",
    "    Instructions:\n",
    "    {new_line.join(row['instructions'])}\n",
    "    {special_token}\"\"\" \n",
    "    \n",
    "    return entry\n",
    "\n",
    "def prepare_data_for_finetuning(data):\n",
    "    data['combined_set'] = [create_combined_entry(row) for i, row in data.iterrows()]\n",
    "    \n",
    "    return data"
   ]
  },
  {
   "cell_type": "code",
   "execution_count": 64,
   "id": "43d2e15a",
   "metadata": {},
   "outputs": [],
   "source": [
    "df_combined = prepare_data_for_finetuning(df)"
   ]
  },
  {
   "cell_type": "code",
   "execution_count": 65,
   "id": "66d12226",
   "metadata": {},
   "outputs": [
    {
     "data": {
      "text/plain": [
       "'\\n    Ingredients:\\n    winter squash\\nmexican seasoning\\nmixed spice\\nhoney\\nbutter\\nolive oil\\nsalt\\n    Instructions:\\n    make a choice and proceed with recipe\\ndepending on size of squash , cut into half or fourths\\nremove seeds\\nfor spicy squash , drizzle olive oil or melted butter over each cut squash piece\\nseason with mexican seasoning mix ii\\nfor sweet squash , drizzle melted honey , butter , grated piloncillo over each cut squash piece\\nseason with sweet mexican spice mix\\nbake at 350 degrees , again depending on size , for 40 minutes up to an hour , until a fork can easily pierce the skin\\nbe careful not to burn the squash especially if you opt to use sugar or butter\\nif you feel more comfortable , cover the squash with aluminum foil the first half hour , give or take , of baking\\nif desired , season with salt\\n    <|endoftext|>'"
      ]
     },
     "execution_count": 65,
     "metadata": {},
     "output_type": "execute_result"
    }
   ],
   "source": [
    "df_combined.iloc[0]['combined_set']"
   ]
  },
  {
   "cell_type": "code",
   "execution_count": 66,
   "id": "ca923f87",
   "metadata": {},
   "outputs": [
    {
     "name": "stdout",
     "output_type": "stream",
     "text": [
      "\n",
      "    Ingredients:\n",
      "    winter squash\n",
      "mexican seasoning\n",
      "mixed spice\n",
      "honey\n",
      "butter\n",
      "olive oil\n",
      "salt\n",
      "    Instructions:\n",
      "    make a choice and proceed with recipe\n",
      "depending on size of squash , cut into half or fourths\n",
      "remove seeds\n",
      "for spicy squash , drizzle olive oil or melted butter over each cut squash piece\n",
      "season with mexican seasoning mix ii\n",
      "for sweet squash , drizzle melted honey , butter , grated piloncillo over each cut squash piece\n",
      "season with sweet mexican spice mix\n",
      "bake at 350 degrees , again depending on size , for 40 minutes up to an hour , until a fork can easily pierce the skin\n",
      "be careful not to burn the squash especially if you opt to use sugar or butter\n",
      "if you feel more comfortable , cover the squash with aluminum foil the first half hour , give or take , of baking\n",
      "if desired , season with salt\n",
      "    <|endoftext|>\n"
     ]
    }
   ],
   "source": [
    "print(df_combined.iloc[0]['combined_set'])"
   ]
  },
  {
   "cell_type": "code",
   "execution_count": 67,
   "id": "41ba97f2",
   "metadata": {},
   "outputs": [],
   "source": [
    "df_combined.to_pickle('dataset-prepared/df_dataset_prepared.pkl')"
   ]
  },
  {
   "cell_type": "markdown",
   "id": "49a83160",
   "metadata": {},
   "source": [
    "## Prepare Data for Fine Tuning"
   ]
  },
  {
   "cell_type": "markdown",
   "id": "0f91a809",
   "metadata": {},
   "source": [
    "- the data which will be used for fine tuning will only contain the combined set of inrgedients and instruction teps\n",
    "- first data is shuffeled to have a random ordering\n",
    "- then the first 200.000 samples are used for train set\n",
    "- the test set will contain the remaining examples\n",
    "- note that the is no real concept of measuring the test set with a score, the probing of recepices will have to be done empirically // manually "
   ]
  },
  {
   "cell_type": "code",
   "execution_count": 71,
   "id": "164419d7",
   "metadata": {},
   "outputs": [],
   "source": [
    "data = pd.read_pickle('dataset-prepared/df_dataset_prepared.pkl')"
   ]
  },
  {
   "cell_type": "markdown",
   "id": "88b8d5d3",
   "metadata": {},
   "source": [
    "#### Shuffle "
   ]
  },
  {
   "cell_type": "code",
   "execution_count": 73,
   "id": "17657697",
   "metadata": {},
   "outputs": [],
   "source": [
    "data = data.sample(frac=1).reset_index(drop=True)"
   ]
  },
  {
   "cell_type": "markdown",
   "id": "121b7ae7",
   "metadata": {},
   "source": [
    "#### Create train and test set"
   ]
  },
  {
   "cell_type": "code",
   "execution_count": 76,
   "id": "54d2649f",
   "metadata": {},
   "outputs": [
    {
     "data": {
      "text/plain": [
       "(229166, 12)"
      ]
     },
     "execution_count": 76,
     "metadata": {},
     "output_type": "execute_result"
    }
   ],
   "source": [
    "data.shape"
   ]
  },
  {
   "cell_type": "code",
   "execution_count": 77,
   "id": "c5fafa3a",
   "metadata": {},
   "outputs": [],
   "source": [
    "data_train = data[:200_000]['combined_set'].values\n",
    "data_test = data[200_000:]['combined_set'].values"
   ]
  },
  {
   "cell_type": "code",
   "execution_count": 78,
   "id": "96561ac1",
   "metadata": {},
   "outputs": [],
   "source": [
    "# save as txt files\n",
    "with open('dataset-prepared/data_train.txt', 'w') as f:\n",
    "    f.write('\\n'.join(data_train))\n",
    "\n",
    "with open('dataset-prepared/data_test.txt', 'w') as f:\n",
    "    f.write('\\n'.join(data_test))"
   ]
  },
  {
   "cell_type": "code",
   "execution_count": 80,
   "id": "393dd566",
   "metadata": {},
   "outputs": [
    {
     "data": {
      "text/plain": [
       "array(['\\n    Ingredients:\\n    bulgar wheat\\nonion\\nfresh ground pepper\\nsalt\\nparsley\\ngreen onion\\ntomatoes\\nfresh lemon juice\\nolive oil\\n    Instructions:\\n    soak bulgur wheat in lukewarm water to cover by 1 / 2 inch for 45 minutes and then place in sieve to drain\\ncombine minced onion pepper and salt\\nset aside\\nin a large bowl , combine parsley , scallions and tomatoes ,\\ngently fold in the soaked or rinsed wheat\\nstir in seasoned onion and dress with lemon and oil\\nadd parsley , scallions and tomatoes ,\\nrefrigerate at least an hour before serving\\nserve on lettuce leaves in individual dishes , or use tender lettuce heart leaves as scoops to eat the tabbouleh\\nin lebanon tabouleh is generally served on a large platter and decorated with chopped tomatoes\\nthe vegetable leaves are served on a separate dish in an attractive way\\ni usually have a basket of mini pitas that we spoon our tabouleh on\\n    <|endoftext|>',\n",
       "       '\\n    Ingredients:\\n    sea scallops\\nbutter\\nshallots\\ndry vermouth\\nparsley\\nlemon wedge\\n    Instructions:\\n    rinse scallops gently under cold water\\ndrain\\nif large , cut in half\\nin hot butter in large , heavy skillet , saute shallot 2 minutes\\nadd scallops in a single layer\\nsaute over medium heat , stirring occasionally , until browned and cooked through - 5-8 minutes\\nwith slotted spoon , remove to heated platter\\nkeep warm\\nadd vermouth and parsley to skillet\\ncook over low heat , stirring to dissolve browned bits , until bubbling - about 1 minute\\npour sauce over the scallops\\ngarnish scallops with lemon wedges and additional parsley , if desired\\n    <|endoftext|>',\n",
       "       '\\n    Ingredients:\\n    ground beef\\nvelveeta cheese\\nthick & chunky salsa\\n    Instructions:\\n    place hamburger in large frying pan and brown\\ndrain\\nreturn beef to pan and add cheese and salsa\\nreduce heat and cook on low-medium until cheese is melted\\n    <|endoftext|>',\n",
       "       ...,\n",
       "       '\\n    Ingredients:\\n    ground chicken\\nboneless skinless chicken breasts\\ngreen onion\\nbreadcrumbs\\ngingerroot\\nvegetable oil\\nhoisin sauce\\ngarlic\\nsoy sauce\\npepper\\n    Instructions:\\n    combine all ingredients well\\nwet hands , then form into 4 3 / 4 inch thick patties\\narrange between layers of wax paper or plastic wrap , cover and chill at least one hour before grilling\\nthese patties will be soft , so be careful when transferring them to the bbq\\nthey will firm up as they cook\\ncook on a greased grill on med heat for 12-15 mins , flipping once , or until chicken is no longer pink\\nserve on buns !\\n    <|endoftext|>',\n",
       "       '\\n    Ingredients:\\n    extra virgin olive oil\\ngarlic cloves\\ncannellini beans\\ntomatoes\\nfresh basil\\nsalt\\npepper\\npenne pasta\\nparmigiano-reggiano cheese\\n    Instructions:\\n    in a large skillet , heat oil over low heat\\nadd in garlic\\nstir / saute for about 2 minutes or until the garlic begins to sizzle and turn golden\\nadd in the beans , tomatoes , basil , salt and pepper\\nstir to combine and until heated through\\nin a mixing bowl , combine the pasta , bean mixture , and reserved cooking water\\ntoss\\nsprinkle with cheese and serve\\n    <|endoftext|>',\n",
       "       '\\n    Ingredients:\\n    honey mustard\\nlime zest\\nlime juice\\ngarlic cloves\\nsoy sauce\\ncenter-cut pork chops\\n    Instructions:\\n    preheat grill to medium-high heat\\nmix mustard , lime peel , lime juice , garlic and soy sauce until well blended\\nremove 1 / 2 cup of the mustard mixture\\nset aside\\ngrill chops 16 minutes or until cooked through , turning and brushing occasionally with the remaining mustard mixture\\nserve with the reserved 1 / 2 cup mustard mixture\\n    <|endoftext|>'],\n",
       "      dtype=object)"
      ]
     },
     "execution_count": 80,
     "metadata": {},
     "output_type": "execute_result"
    }
   ],
   "source": [
    "data_train"
   ]
  },
  {
   "cell_type": "code",
   "execution_count": null,
   "id": "afd2df5f",
   "metadata": {},
   "outputs": [],
   "source": []
  },
  {
   "cell_type": "code",
   "execution_count": 3,
   "id": "f166a577",
   "metadata": {},
   "outputs": [],
   "source": [
    "data_1 = pd.read_pickle('dataset-prepared/df_dataset_prepared.pkl')"
   ]
  },
  {
   "cell_type": "code",
   "execution_count": 4,
   "id": "b7364505",
   "metadata": {},
   "outputs": [],
   "source": [
    "data_1.to_csv('dataset-prepared/df_dataset_prepared.csv')"
   ]
  },
  {
   "cell_type": "code",
   "execution_count": 84,
   "id": "a6144be4",
   "metadata": {},
   "outputs": [],
   "source": [
    "df_random_test_recipes = data_1[['title', 'combined_set']]"
   ]
  },
  {
   "cell_type": "code",
   "execution_count": null,
   "id": "48c750aa",
   "metadata": {},
   "outputs": [],
   "source": [
    "temp = \"Ingredients:\n",
    "    oil\n",
    "onion\n",
    "garlic cloves\n",
    "green chili pepper\n",
    "salt\n",
    "turmeric\n",
    "coriander\n",
    "ground cumin\n",
    "ground black pepper\n",
    "cinnamon\n",
    "cardamom pods\n",
    "whole cloves\n",
    "water\n",
    "chicken pieces\n",
    "basmati rice\n",
    "cashews\n",
    "    Instructions:\n",
    "    saute garlic , onion , and pepper in oil over medium heat until browned\n",
    "add salt , turmeric , coriander , cumin , black pepper , cinnamon , cardamom , cloves to onion mixture\n",
    "add chicken and cook until brown on the outside\n",
    "add water and cook the chicken on medium heat for about 20-30 minutes if using a pressure cooker , or longer if cooking in a regular pot\n",
    "when the chicken is cooked through , assess how much water is left in the pot\n",
    "you will want about 2 cups of water for every cup of rice , however this may vary greatly depending on the type of rice used as some are more absorbent\n",
    "add the rice to the broth , and the rice should be just covered by the water\n",
    "if needed add more water a quarter cup at a time\n",
    "cook the rice uncovered on medium heat for about 10 minutes , until the rice is about 2 / 3 cooked through and there is just a little bit of liquid left\n",
    "now reduce the heat to low and cover the pot , do not seal the cooker\n",
    "let the rice steam for another 10 minutes until all liquid is absorbed\n",
    "when all water is absorbed and rice is cooked through , turn off heat and let sit in the pot about 10 minutes before serving\n",
    "garnish with a handful of raisins , almonds , and cashews\n",
    "    <|endoftext|>\""
   ]
  },
  {
   "cell_type": "code",
   "execution_count": 131,
   "id": "0d407d6a",
   "metadata": {},
   "outputs": [],
   "source": [
    "res = df_random_test_recipes.loc[df_random_test_recipes['combined_set']. \\\n",
    "                                 str.contains('arrange the tomatoes on top of cheese in a circular pattern')]\n",
    "\n",
    "\n"
   ]
  },
  {
   "cell_type": "code",
   "execution_count": 132,
   "id": "0e4707d4",
   "metadata": {},
   "outputs": [
    {
     "data": {
      "text/html": [
       "<div>\n",
       "<style scoped>\n",
       "    .dataframe tbody tr th:only-of-type {\n",
       "        vertical-align: middle;\n",
       "    }\n",
       "\n",
       "    .dataframe tbody tr th {\n",
       "        vertical-align: top;\n",
       "    }\n",
       "\n",
       "    .dataframe thead th {\n",
       "        text-align: right;\n",
       "    }\n",
       "</style>\n",
       "<table border=\"1\" class=\"dataframe\">\n",
       "  <thead>\n",
       "    <tr style=\"text-align: right;\">\n",
       "      <th></th>\n",
       "      <th>title</th>\n",
       "      <th>combined_set</th>\n",
       "    </tr>\n",
       "  </thead>\n",
       "  <tbody>\n",
       "    <tr>\n",
       "      <th>72021</th>\n",
       "      <td>dijon cheese pie</td>\n",
       "      <td>\\n    Ingredients:\\n    pie crust\\ndijon musta...</td>\n",
       "    </tr>\n",
       "  </tbody>\n",
       "</table>\n",
       "</div>"
      ],
      "text/plain": [
       "                  title                                       combined_set\n",
       "72021  dijon cheese pie  \\n    Ingredients:\\n    pie crust\\ndijon musta..."
      ]
     },
     "execution_count": 132,
     "metadata": {},
     "output_type": "execute_result"
    }
   ],
   "source": [
    "res"
   ]
  },
  {
   "cell_type": "code",
   "execution_count": null,
   "id": "5bea2f76",
   "metadata": {},
   "outputs": [],
   "source": []
  },
  {
   "cell_type": "code",
   "execution_count": null,
   "id": "6d4f3238",
   "metadata": {},
   "outputs": [],
   "source": []
  },
  {
   "cell_type": "code",
   "execution_count": 133,
   "id": "ccf77b21",
   "metadata": {},
   "outputs": [],
   "source": [
    "selection = ['chicken zurbian rice from yemen', 'crock pot turkey joes', 'delta catfish stew', \n",
    "            'super fudgy truffles', 'spaghetti with vegetables', 'azumaya egg rolls', 'strawberry roll cake',\n",
    "            'bacon and cheese souffles', 'asparagus in orange sauce', 'confetti rolls', 'smoked sausage supper', \n",
    "             'browned pork chops and gravy', 'veggie pita subs', 'blueberry orange pancakes', \n",
    "             'breaded southern fried pork chops',\n",
    "            'penne pasta with vegetables', 'baked macaroni and cheese with broccoli', 'dijon cheese pie']"
   ]
  },
  {
   "cell_type": "markdown",
   "id": "610ba2ba",
   "metadata": {},
   "source": [
    "chicken zurbian rice from yemen, crock pot turkey joes\t66587, delta catfish stew 71251, super fudgy truffles 204240, spaghetti with vegetables 193696, 11772 azumaya egg rolls, strawberry roll cake 201268, bacon and cheese souffles 12249, asparagus in orange sauce 9817, confetti rolls 57164, smoked sausage supper 189891, \tbrowned pork chops and gravy 30427, veggie pita subs 222527, blueberry orange pancakes 26209, breaded southern fried pork chops 28340,  penne pasta with vegetables 157348, baked macaroni and cheese with broccoli 14529, dijon cheese pie 72021"
   ]
  },
  {
   "cell_type": "code",
   "execution_count": 134,
   "id": "0fecb044",
   "metadata": {},
   "outputs": [],
   "source": [
    "df_test = df[df_random_test_recipes['title'].isin(selection)]"
   ]
  },
  {
   "cell_type": "code",
   "execution_count": 136,
   "id": "f50d1ffe",
   "metadata": {},
   "outputs": [
    {
     "data": {
      "text/plain": [
       "(18, 12)"
      ]
     },
     "execution_count": 136,
     "metadata": {},
     "output_type": "execute_result"
    }
   ],
   "source": [
    "df_test.shape"
   ]
  },
  {
   "cell_type": "code",
   "execution_count": null,
   "id": "f4f34dcf",
   "metadata": {},
   "outputs": [],
   "source": []
  }
 ],
 "metadata": {
  "kernelspec": {
   "display_name": "Python 3 (ipykernel)",
   "language": "python",
   "name": "python3"
  },
  "language_info": {
   "codemirror_mode": {
    "name": "ipython",
    "version": 3
   },
   "file_extension": ".py",
   "mimetype": "text/x-python",
   "name": "python",
   "nbconvert_exporter": "python",
   "pygments_lexer": "ipython3",
   "version": "3.9.12"
  }
 },
 "nbformat": 4,
 "nbformat_minor": 5
}
